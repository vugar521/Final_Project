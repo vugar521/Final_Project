{
 "cells": [
  {
   "cell_type": "code",
   "execution_count": 1,
   "id": "7acbafcd",
   "metadata": {},
   "outputs": [],
   "source": [
    "import pandas as pd\n",
    "import matplotlib.pyplot as plt\n",
    "import seaborn as sns\n",
    "import numpy as np\n",
    "import warnings\n",
    "warnings.filterwarnings(\"ignore\")\n",
    "%matplotlib inline  "
   ]
  },
  {
   "cell_type": "code",
   "execution_count": 2,
   "id": "f253ea81",
   "metadata": {},
   "outputs": [
    {
     "data": {
      "text/html": [
       "<div>\n",
       "<style scoped>\n",
       "    .dataframe tbody tr th:only-of-type {\n",
       "        vertical-align: middle;\n",
       "    }\n",
       "\n",
       "    .dataframe tbody tr th {\n",
       "        vertical-align: top;\n",
       "    }\n",
       "\n",
       "    .dataframe thead th {\n",
       "        text-align: right;\n",
       "    }\n",
       "</style>\n",
       "<table border=\"1\" class=\"dataframe\">\n",
       "  <thead>\n",
       "    <tr style=\"text-align: right;\">\n",
       "      <th></th>\n",
       "      <th>brand_model</th>\n",
       "      <th>brand</th>\n",
       "      <th>model</th>\n",
       "      <th>mileage</th>\n",
       "      <th>fuel</th>\n",
       "      <th>gear</th>\n",
       "      <th>offer_type</th>\n",
       "      <th>price</th>\n",
       "      <th>hp</th>\n",
       "      <th>year</th>\n",
       "      <th>age</th>\n",
       "    </tr>\n",
       "  </thead>\n",
       "  <tbody>\n",
       "    <tr>\n",
       "      <th>0</th>\n",
       "      <td>Volkswagen Golf</td>\n",
       "      <td>Volkswagen</td>\n",
       "      <td>Golf</td>\n",
       "      <td>92800</td>\n",
       "      <td>Gasoline</td>\n",
       "      <td>Manual</td>\n",
       "      <td>Used</td>\n",
       "      <td>6877</td>\n",
       "      <td>122.0</td>\n",
       "      <td>2011</td>\n",
       "      <td>12</td>\n",
       "    </tr>\n",
       "    <tr>\n",
       "      <th>1</th>\n",
       "      <td>Renault Megane</td>\n",
       "      <td>Renault</td>\n",
       "      <td>Megane</td>\n",
       "      <td>96200</td>\n",
       "      <td>Gasoline</td>\n",
       "      <td>Manual</td>\n",
       "      <td>Used</td>\n",
       "      <td>6950</td>\n",
       "      <td>110.0</td>\n",
       "      <td>2011</td>\n",
       "      <td>12</td>\n",
       "    </tr>\n",
       "    <tr>\n",
       "      <th>2</th>\n",
       "      <td>Peugeot 308</td>\n",
       "      <td>Peugeot</td>\n",
       "      <td>308</td>\n",
       "      <td>156000</td>\n",
       "      <td>Gasoline</td>\n",
       "      <td>Manual</td>\n",
       "      <td>Used</td>\n",
       "      <td>6950</td>\n",
       "      <td>156.0</td>\n",
       "      <td>2011</td>\n",
       "      <td>12</td>\n",
       "    </tr>\n",
       "    <tr>\n",
       "      <th>3</th>\n",
       "      <td>Toyota Auris</td>\n",
       "      <td>Toyota</td>\n",
       "      <td>Auris</td>\n",
       "      <td>147000</td>\n",
       "      <td>Electric</td>\n",
       "      <td>Automatic</td>\n",
       "      <td>Used</td>\n",
       "      <td>6950</td>\n",
       "      <td>99.0</td>\n",
       "      <td>2011</td>\n",
       "      <td>12</td>\n",
       "    </tr>\n",
       "    <tr>\n",
       "      <th>4</th>\n",
       "      <td>Renault Scenic</td>\n",
       "      <td>Renault</td>\n",
       "      <td>Scenic</td>\n",
       "      <td>91894</td>\n",
       "      <td>Diesel</td>\n",
       "      <td>Manual</td>\n",
       "      <td>Used</td>\n",
       "      <td>6970</td>\n",
       "      <td>131.0</td>\n",
       "      <td>2011</td>\n",
       "      <td>12</td>\n",
       "    </tr>\n",
       "  </tbody>\n",
       "</table>\n",
       "</div>"
      ],
      "text/plain": [
       "       brand_model       brand   model  mileage      fuel       gear  \\\n",
       "0  Volkswagen Golf  Volkswagen    Golf    92800  Gasoline     Manual   \n",
       "1   Renault Megane     Renault  Megane    96200  Gasoline     Manual   \n",
       "2      Peugeot 308     Peugeot     308   156000  Gasoline     Manual   \n",
       "3     Toyota Auris      Toyota   Auris   147000  Electric  Automatic   \n",
       "4   Renault Scenic     Renault  Scenic    91894    Diesel     Manual   \n",
       "\n",
       "  offer_type  price     hp  year  age  \n",
       "0       Used   6877  122.0  2011   12  \n",
       "1       Used   6950  110.0  2011   12  \n",
       "2       Used   6950  156.0  2011   12  \n",
       "3       Used   6950   99.0  2011   12  \n",
       "4       Used   6970  131.0  2011   12  "
      ]
     },
     "execution_count": 2,
     "metadata": {},
     "output_type": "execute_result"
    }
   ],
   "source": [
    "data = pd.read_csv('../Data/clean_data.csv')\n",
    "data.head()"
   ]
  },
  {
   "cell_type": "markdown",
   "id": "0957d2c4",
   "metadata": {},
   "source": [
    "#### Exploring Outliers in the dataset"
   ]
  },
  {
   "cell_type": "code",
   "execution_count": 3,
   "id": "28fdd5c3",
   "metadata": {
    "scrolled": true
   },
   "outputs": [
    {
     "data": {
      "text/html": [
       "<div>\n",
       "<style scoped>\n",
       "    .dataframe tbody tr th:only-of-type {\n",
       "        vertical-align: middle;\n",
       "    }\n",
       "\n",
       "    .dataframe tbody tr th {\n",
       "        vertical-align: top;\n",
       "    }\n",
       "\n",
       "    .dataframe thead th {\n",
       "        text-align: right;\n",
       "    }\n",
       "</style>\n",
       "<table border=\"1\" class=\"dataframe\">\n",
       "  <thead>\n",
       "    <tr style=\"text-align: right;\">\n",
       "      <th></th>\n",
       "      <th>mileage</th>\n",
       "      <th>price</th>\n",
       "      <th>hp</th>\n",
       "      <th>year</th>\n",
       "      <th>age</th>\n",
       "    </tr>\n",
       "  </thead>\n",
       "  <tbody>\n",
       "    <tr>\n",
       "      <th>0</th>\n",
       "      <td>92800</td>\n",
       "      <td>6877</td>\n",
       "      <td>122.0</td>\n",
       "      <td>2011</td>\n",
       "      <td>12</td>\n",
       "    </tr>\n",
       "    <tr>\n",
       "      <th>1</th>\n",
       "      <td>96200</td>\n",
       "      <td>6950</td>\n",
       "      <td>110.0</td>\n",
       "      <td>2011</td>\n",
       "      <td>12</td>\n",
       "    </tr>\n",
       "    <tr>\n",
       "      <th>2</th>\n",
       "      <td>156000</td>\n",
       "      <td>6950</td>\n",
       "      <td>156.0</td>\n",
       "      <td>2011</td>\n",
       "      <td>12</td>\n",
       "    </tr>\n",
       "    <tr>\n",
       "      <th>3</th>\n",
       "      <td>147000</td>\n",
       "      <td>6950</td>\n",
       "      <td>99.0</td>\n",
       "      <td>2011</td>\n",
       "      <td>12</td>\n",
       "    </tr>\n",
       "    <tr>\n",
       "      <th>4</th>\n",
       "      <td>91894</td>\n",
       "      <td>6970</td>\n",
       "      <td>131.0</td>\n",
       "      <td>2011</td>\n",
       "      <td>12</td>\n",
       "    </tr>\n",
       "    <tr>\n",
       "      <th>...</th>\n",
       "      <td>...</td>\n",
       "      <td>...</td>\n",
       "      <td>...</td>\n",
       "      <td>...</td>\n",
       "      <td>...</td>\n",
       "    </tr>\n",
       "    <tr>\n",
       "      <th>32196</th>\n",
       "      <td>10</td>\n",
       "      <td>12340</td>\n",
       "      <td>72.0</td>\n",
       "      <td>2021</td>\n",
       "      <td>2</td>\n",
       "    </tr>\n",
       "    <tr>\n",
       "      <th>32197</th>\n",
       "      <td>99</td>\n",
       "      <td>12490</td>\n",
       "      <td>71.0</td>\n",
       "      <td>2021</td>\n",
       "      <td>2</td>\n",
       "    </tr>\n",
       "    <tr>\n",
       "      <th>32198</th>\n",
       "      <td>550</td>\n",
       "      <td>12805</td>\n",
       "      <td>69.0</td>\n",
       "      <td>2021</td>\n",
       "      <td>2</td>\n",
       "    </tr>\n",
       "    <tr>\n",
       "      <th>32199</th>\n",
       "      <td>837</td>\n",
       "      <td>12805</td>\n",
       "      <td>69.0</td>\n",
       "      <td>2021</td>\n",
       "      <td>2</td>\n",
       "    </tr>\n",
       "    <tr>\n",
       "      <th>32200</th>\n",
       "      <td>1500</td>\n",
       "      <td>12980</td>\n",
       "      <td>60.0</td>\n",
       "      <td>2021</td>\n",
       "      <td>2</td>\n",
       "    </tr>\n",
       "  </tbody>\n",
       "</table>\n",
       "<p>32201 rows × 5 columns</p>\n",
       "</div>"
      ],
      "text/plain": [
       "       mileage  price     hp  year  age\n",
       "0        92800   6877  122.0  2011   12\n",
       "1        96200   6950  110.0  2011   12\n",
       "2       156000   6950  156.0  2011   12\n",
       "3       147000   6950   99.0  2011   12\n",
       "4        91894   6970  131.0  2011   12\n",
       "...        ...    ...    ...   ...  ...\n",
       "32196       10  12340   72.0  2021    2\n",
       "32197       99  12490   71.0  2021    2\n",
       "32198      550  12805   69.0  2021    2\n",
       "32199      837  12805   69.0  2021    2\n",
       "32200     1500  12980   60.0  2021    2\n",
       "\n",
       "[32201 rows x 5 columns]"
      ]
     },
     "execution_count": 3,
     "metadata": {},
     "output_type": "execute_result"
    }
   ],
   "source": [
    "data.select_dtypes(include=np.number)\n"
   ]
  },
  {
   "cell_type": "code",
   "execution_count": 4,
   "id": "944c178d",
   "metadata": {},
   "outputs": [
    {
     "data": {
      "image/png": "[encoded data removed]",
      "text/plain": [
       "<Figure size 640x480 with 1 Axes>"
      ]
     },
     "metadata": {},
     "output_type": "display_data"
    },
    {
     "data": {
      "image/png": "[encoded data removed]",
      "text/plain": [
       "<Figure size 640x480 with 1 Axes>"
      ]
     },
     "metadata": {},
     "output_type": "display_data"
    },
    {
     "data": {
      "image/png": "[encoded data removed]",
      "text/plain": [
       "<Figure size 640x480 with 1 Axes>"
      ]
     },
     "metadata": {},
     "output_type": "display_data"
    }
   ],
   "source": [
    "for column in [\"mileage\",\"hp\",\"price\"]:\n",
    "    sns.boxplot(data[column])\n",
    "    plt.show()"
   ]
  },
  {
   "cell_type": "markdown",
   "id": "c9c315d8",
   "metadata": {},
   "source": [
    "#### Removing outliers"
   ]
  },
  {
   "cell_type": "markdown",
   "id": "94540ffb",
   "metadata": {},
   "source": [
    "+ Column Mileage"
   ]
  },
  {
   "cell_type": "code",
   "execution_count": 5,
   "id": "6a7afc56",
   "metadata": {},
   "outputs": [
    {
     "data": {
      "text/html": [
       "<div>\n",
       "<style scoped>\n",
       "    .dataframe tbody tr th:only-of-type {\n",
       "        vertical-align: middle;\n",
       "    }\n",
       "\n",
       "    .dataframe tbody tr th {\n",
       "        vertical-align: top;\n",
       "    }\n",
       "\n",
       "    .dataframe thead th {\n",
       "        text-align: right;\n",
       "    }\n",
       "</style>\n",
       "<table border=\"1\" class=\"dataframe\">\n",
       "  <thead>\n",
       "    <tr style=\"text-align: right;\">\n",
       "      <th></th>\n",
       "      <th>mileage</th>\n",
       "      <th>price</th>\n",
       "      <th>hp</th>\n",
       "      <th>year</th>\n",
       "      <th>age</th>\n",
       "    </tr>\n",
       "  </thead>\n",
       "  <tbody>\n",
       "    <tr>\n",
       "      <th>count</th>\n",
       "      <td>32201.000000</td>\n",
       "      <td>32201.000000</td>\n",
       "      <td>32201.000000</td>\n",
       "      <td>32201.000000</td>\n",
       "      <td>32201.000000</td>\n",
       "    </tr>\n",
       "    <tr>\n",
       "      <th>mean</th>\n",
       "      <td>72949.453433</td>\n",
       "      <td>13122.826589</td>\n",
       "      <td>116.762771</td>\n",
       "      <td>2015.853576</td>\n",
       "      <td>7.146424</td>\n",
       "    </tr>\n",
       "    <tr>\n",
       "      <th>std</th>\n",
       "      <td>60658.517378</td>\n",
       "      <td>9002.856835</td>\n",
       "      <td>47.044138</td>\n",
       "      <td>3.045252</td>\n",
       "      <td>3.045252</td>\n",
       "    </tr>\n",
       "    <tr>\n",
       "      <th>min</th>\n",
       "      <td>1.000000</td>\n",
       "      <td>1100.000000</td>\n",
       "      <td>1.000000</td>\n",
       "      <td>2011.000000</td>\n",
       "      <td>2.000000</td>\n",
       "    </tr>\n",
       "    <tr>\n",
       "      <th>25%</th>\n",
       "      <td>23639.000000</td>\n",
       "      <td>7190.000000</td>\n",
       "      <td>80.000000</td>\n",
       "      <td>2013.000000</td>\n",
       "      <td>5.000000</td>\n",
       "    </tr>\n",
       "    <tr>\n",
       "      <th>50%</th>\n",
       "      <td>62590.000000</td>\n",
       "      <td>9999.000000</td>\n",
       "      <td>105.000000</td>\n",
       "      <td>2016.000000</td>\n",
       "      <td>7.000000</td>\n",
       "    </tr>\n",
       "    <tr>\n",
       "      <th>75%</th>\n",
       "      <td>106100.000000</td>\n",
       "      <td>15700.000000</td>\n",
       "      <td>143.000000</td>\n",
       "      <td>2018.000000</td>\n",
       "      <td>10.000000</td>\n",
       "    </tr>\n",
       "    <tr>\n",
       "      <th>max</th>\n",
       "      <td>620000.000000</td>\n",
       "      <td>97880.000000</td>\n",
       "      <td>450.000000</td>\n",
       "      <td>2021.000000</td>\n",
       "      <td>12.000000</td>\n",
       "    </tr>\n",
       "  </tbody>\n",
       "</table>\n",
       "</div>"
      ],
      "text/plain": [
       "             mileage         price            hp          year           age\n",
       "count   32201.000000  32201.000000  32201.000000  32201.000000  32201.000000\n",
       "mean    72949.453433  13122.826589    116.762771   2015.853576      7.146424\n",
       "std     60658.517378   9002.856835     47.044138      3.045252      3.045252\n",
       "min         1.000000   1100.000000      1.000000   2011.000000      2.000000\n",
       "25%     23639.000000   7190.000000     80.000000   2013.000000      5.000000\n",
       "50%     62590.000000   9999.000000    105.000000   2016.000000      7.000000\n",
       "75%    106100.000000  15700.000000    143.000000   2018.000000     10.000000\n",
       "max    620000.000000  97880.000000    450.000000   2021.000000     12.000000"
      ]
     },
     "execution_count": 5,
     "metadata": {},
     "output_type": "execute_result"
    }
   ],
   "source": [
    "data.describe()"
   ]
  },
  {
   "cell_type": "code",
   "execution_count": 6,
   "id": "bb36e1dc",
   "metadata": {},
   "outputs": [
    {
     "name": "stdout",
     "output_type": "stream",
     "text": [
      "82461.0\n"
     ]
    }
   ],
   "source": [
    "Q1_m = data['mileage'].quantile(0.25)\n",
    "Q3_m = data['mileage'].quantile(0.75)\n",
    "IQR_m=Q3_m - Q1_m\n",
    "print(IQR_m)"
   ]
  },
  {
   "cell_type": "code",
   "execution_count": 7,
   "id": "56e0636c",
   "metadata": {},
   "outputs": [
    {
     "data": {
      "text/plain": [
       "23639.0"
      ]
     },
     "execution_count": 7,
     "metadata": {},
     "output_type": "execute_result"
    }
   ],
   "source": [
    "Q1_m"
   ]
  },
  {
   "cell_type": "code",
   "execution_count": 8,
   "id": "ef5c65d6",
   "metadata": {},
   "outputs": [
    {
     "data": {
      "text/plain": [
       "106100.0"
      ]
     },
     "execution_count": 8,
     "metadata": {},
     "output_type": "execute_result"
    }
   ],
   "source": [
    "Q3_m"
   ]
  },
  {
   "cell_type": "code",
   "execution_count": 9,
   "id": "f5f20b43",
   "metadata": {},
   "outputs": [
    {
     "data": {
      "text/plain": [
       "(32201, 11)"
      ]
     },
     "execution_count": 9,
     "metadata": {},
     "output_type": "execute_result"
    }
   ],
   "source": [
    "data.shape"
   ]
  },
  {
   "cell_type": "code",
   "execution_count": 10,
   "id": "116b2f34",
   "metadata": {},
   "outputs": [],
   "source": [
    "data=data[~((data['mileage']<(Q1_m-1.5*IQR_m)) | (data['mileage']>(Q3_m+1.5*IQR_m)))]"
   ]
  },
  {
   "cell_type": "code",
   "execution_count": 11,
   "id": "d88cc2ed",
   "metadata": {},
   "outputs": [
    {
     "data": {
      "text/plain": [
       "(31613, 11)"
      ]
     },
     "execution_count": 11,
     "metadata": {},
     "output_type": "execute_result"
    }
   ],
   "source": [
    "data.shape"
   ]
  },
  {
   "cell_type": "markdown",
   "id": "aa152c88",
   "metadata": {},
   "source": [
    "+ Column [hp]"
   ]
  },
  {
   "cell_type": "code",
   "execution_count": 12,
   "id": "a9b8e803",
   "metadata": {},
   "outputs": [
    {
     "name": "stdout",
     "output_type": "stream",
     "text": [
      "61.0\n"
     ]
    }
   ],
   "source": [
    "Q1_h = data['hp'].quantile(0.27)\n",
    "Q3_h = data['hp'].quantile(0.75)\n",
    "IQR_h=Q3_h - Q1_h\n",
    "print(IQR_h)"
   ]
  },
  {
   "cell_type": "code",
   "execution_count": 13,
   "id": "4587ff48",
   "metadata": {},
   "outputs": [
    {
     "data": {
      "text/plain": [
       "(31613, 11)"
      ]
     },
     "execution_count": 13,
     "metadata": {},
     "output_type": "execute_result"
    }
   ],
   "source": [
    "data.shape"
   ]
  },
  {
   "cell_type": "code",
   "execution_count": 14,
   "id": "3e24f438",
   "metadata": {},
   "outputs": [
    {
     "data": {
      "text/plain": [
       "(30674, 11)"
      ]
     },
     "execution_count": 14,
     "metadata": {},
     "output_type": "execute_result"
    }
   ],
   "source": [
    "data=data[~((data['hp']<(Q1_h-1.5*IQR_h)) | (data['hp']>(Q3_h+1.5*IQR_h)))]\n",
    "data.shape"
   ]
  },
  {
   "cell_type": "markdown",
   "id": "2126e9ff",
   "metadata": {},
   "source": [
    "Column [price]"
   ]
  },
  {
   "cell_type": "code",
   "execution_count": 15,
   "id": "b81b05c4",
   "metadata": {},
   "outputs": [
    {
     "name": "stdout",
     "output_type": "stream",
     "text": [
      "7880.0\n"
     ]
    }
   ],
   "source": [
    "Q1_p = data['price'].quantile(0.25)\n",
    "Q3_p = data['price'].quantile(0.75)\n",
    "IQR_p=Q3_p - Q1_p\n",
    "print(IQR_p)"
   ]
  },
  {
   "cell_type": "code",
   "execution_count": 16,
   "id": "f6dea987",
   "metadata": {},
   "outputs": [
    {
     "data": {
      "text/plain": [
       "(30674, 11)"
      ]
     },
     "execution_count": 16,
     "metadata": {},
     "output_type": "execute_result"
    }
   ],
   "source": [
    "data.shape"
   ]
  },
  {
   "cell_type": "code",
   "execution_count": 17,
   "id": "104e21c3",
   "metadata": {},
   "outputs": [
    {
     "data": {
      "text/plain": [
       "(28446, 11)"
      ]
     },
     "execution_count": 17,
     "metadata": {},
     "output_type": "execute_result"
    }
   ],
   "source": [
    "data=data[~((data['price']<(Q1_p-1.5*IQR_p)) | (data['price']>(Q3_p+1.5*IQR_p)))]\n",
    "data.shape"
   ]
  },
  {
   "cell_type": "code",
   "execution_count": 18,
   "id": "e626f3d0",
   "metadata": {
    "scrolled": true
   },
   "outputs": [
    {
     "data": {
      "image/png": "[encoded data removed]",
      "text/plain": [
       "<Figure size 640x480 with 1 Axes>"
      ]
     },
     "metadata": {},
     "output_type": "display_data"
    },
    {
     "data": {
      "image/png": "[encoded data removed]",
      "text/plain": [
       "<Figure size 640x480 with 1 Axes>"
      ]
     },
     "metadata": {},
     "output_type": "display_data"
    },
    {
     "data": {
      "image/png": "[encoded data removed]",
      "text/plain": [
       "<Figure size 640x480 with 1 Axes>"
      ]
     },
     "metadata": {},
     "output_type": "display_data"
    }
   ],
   "source": [
    "#after removing outliers\n",
    "for column in [\"mileage\",\"hp\",\"price\"]:\n",
    "    sns.boxplot(data[column])\n",
    "    plt.show()"
   ]
  },
  {
   "cell_type": "code",
   "execution_count": 19,
   "id": "996ccf71",
   "metadata": {},
   "outputs": [
    {
     "data": {
      "text/html": [
       "<div>\n",
       "<style scoped>\n",
       "    .dataframe tbody tr th:only-of-type {\n",
       "        vertical-align: middle;\n",
       "    }\n",
       "\n",
       "    .dataframe tbody tr th {\n",
       "        vertical-align: top;\n",
       "    }\n",
       "\n",
       "    .dataframe thead th {\n",
       "        text-align: right;\n",
       "    }\n",
       "</style>\n",
       "<table border=\"1\" class=\"dataframe\">\n",
       "  <thead>\n",
       "    <tr style=\"text-align: right;\">\n",
       "      <th></th>\n",
       "      <th>brand_model</th>\n",
       "      <th>brand</th>\n",
       "      <th>model</th>\n",
       "      <th>mileage</th>\n",
       "      <th>fuel</th>\n",
       "      <th>gear</th>\n",
       "      <th>offer_type</th>\n",
       "      <th>price</th>\n",
       "      <th>hp</th>\n",
       "      <th>year</th>\n",
       "      <th>age</th>\n",
       "    </tr>\n",
       "  </thead>\n",
       "  <tbody>\n",
       "    <tr>\n",
       "      <th>0</th>\n",
       "      <td>Volkswagen Golf</td>\n",
       "      <td>Volkswagen</td>\n",
       "      <td>Golf</td>\n",
       "      <td>92800</td>\n",
       "      <td>Gasoline</td>\n",
       "      <td>Manual</td>\n",
       "      <td>Used</td>\n",
       "      <td>6877</td>\n",
       "      <td>122.0</td>\n",
       "      <td>2011</td>\n",
       "      <td>12</td>\n",
       "    </tr>\n",
       "    <tr>\n",
       "      <th>1</th>\n",
       "      <td>Renault Megane</td>\n",
       "      <td>Renault</td>\n",
       "      <td>Megane</td>\n",
       "      <td>96200</td>\n",
       "      <td>Gasoline</td>\n",
       "      <td>Manual</td>\n",
       "      <td>Used</td>\n",
       "      <td>6950</td>\n",
       "      <td>110.0</td>\n",
       "      <td>2011</td>\n",
       "      <td>12</td>\n",
       "    </tr>\n",
       "    <tr>\n",
       "      <th>2</th>\n",
       "      <td>Peugeot 308</td>\n",
       "      <td>Peugeot</td>\n",
       "      <td>308</td>\n",
       "      <td>156000</td>\n",
       "      <td>Gasoline</td>\n",
       "      <td>Manual</td>\n",
       "      <td>Used</td>\n",
       "      <td>6950</td>\n",
       "      <td>156.0</td>\n",
       "      <td>2011</td>\n",
       "      <td>12</td>\n",
       "    </tr>\n",
       "    <tr>\n",
       "      <th>3</th>\n",
       "      <td>Toyota Auris</td>\n",
       "      <td>Toyota</td>\n",
       "      <td>Auris</td>\n",
       "      <td>147000</td>\n",
       "      <td>Electric</td>\n",
       "      <td>Automatic</td>\n",
       "      <td>Used</td>\n",
       "      <td>6950</td>\n",
       "      <td>99.0</td>\n",
       "      <td>2011</td>\n",
       "      <td>12</td>\n",
       "    </tr>\n",
       "    <tr>\n",
       "      <th>4</th>\n",
       "      <td>Renault Scenic</td>\n",
       "      <td>Renault</td>\n",
       "      <td>Scenic</td>\n",
       "      <td>91894</td>\n",
       "      <td>Diesel</td>\n",
       "      <td>Manual</td>\n",
       "      <td>Used</td>\n",
       "      <td>6970</td>\n",
       "      <td>131.0</td>\n",
       "      <td>2011</td>\n",
       "      <td>12</td>\n",
       "    </tr>\n",
       "  </tbody>\n",
       "</table>\n",
       "</div>"
      ],
      "text/plain": [
       "       brand_model       brand   model  mileage      fuel       gear  \\\n",
       "0  Volkswagen Golf  Volkswagen    Golf    92800  Gasoline     Manual   \n",
       "1   Renault Megane     Renault  Megane    96200  Gasoline     Manual   \n",
       "2      Peugeot 308     Peugeot     308   156000  Gasoline     Manual   \n",
       "3     Toyota Auris      Toyota   Auris   147000  Electric  Automatic   \n",
       "4   Renault Scenic     Renault  Scenic    91894    Diesel     Manual   \n",
       "\n",
       "  offer_type  price     hp  year  age  \n",
       "0       Used   6877  122.0  2011   12  \n",
       "1       Used   6950  110.0  2011   12  \n",
       "2       Used   6950  156.0  2011   12  \n",
       "3       Used   6950   99.0  2011   12  \n",
       "4       Used   6970  131.0  2011   12  "
      ]
     },
     "execution_count": 19,
     "metadata": {},
     "output_type": "execute_result"
    }
   ],
   "source": [
    "data.head()"
   ]
  },
  {
   "cell_type": "code",
   "execution_count": 20,
   "id": "cd72ffd7",
   "metadata": {},
   "outputs": [],
   "source": [
    "data.to_csv('../Data/clean_data_outliers.csv',index=False)"
   ]
  }
 ],
 "metadata": {
  "kernelspec": {
   "display_name": "Final-Bootcamp-Project",
   "language": "python",
   "name": "final-bootcamp-project"
  },
  "language_info": {
   "codemirror_mode": {
    "name": "ipython",
    "version": 3
   },
   "file_extension": ".py",
   "mimetype": "text/x-python",
   "name": "python",
   "nbconvert_exporter": "python",
   "pygments_lexer": "ipython3",
   "version": "3.9.16"
  }
 },
 "nbformat": 4,
 "nbformat_minor": 5
}
