{
 "cells": [
  {
   "cell_type": "markdown",
   "id": "85ae2d57",
   "metadata": {},
   "source": [
    "###  Predicting of used cars in Germany"
   ]
  },
  {
   "cell_type": "markdown",
   "id": "9f9afed6",
   "metadata": {},
   "source": [
    "### Q1 what is the most popular car brands in the market (Germany) ?\n",
    "- By computing the frequency of different car brands, we can get an idea of the popular cars in the German market"
   ]
  },
  {
   "cell_type": "markdown",
   "id": "c594ff73",
   "metadata": {},
   "source": [
    "### Q2 Can we predict the prices of the cars based on its criteria?\n",
    "- We are going to build a predictive model of the car prices based on certain features"
   ]
  },
  {
   "cell_type": "markdown",
   "id": "91b271a5",
   "metadata": {},
   "source": [
    "### 3 Step: \n",
    "Prediction of the price of used cars in Germany and Comparing Machine Learning models (Comparing Models)\n",
    "\n",
    "- Machine Learning Regression Models will be  use in order to predict the price"
   ]
  },
  {
   "cell_type": "code",
   "execution_count": 2,
   "id": "2b1168dd",
   "metadata": {},
   "outputs": [],
   "source": [
    "import pandas as pd\n",
    "import seaborn as sns\n",
    "import matplotlib.pyplot as plt"
   ]
  },
  {
   "cell_type": "markdown",
   "id": "75121cc6",
   "metadata": {},
   "source": [
    "Reading dataset file"
   ]
  },
  {
   "cell_type": "markdown",
   "id": "695f92d3",
   "metadata": {},
   "source": [
    "raw_data will be stored as data, after changes, dataset will be called data_clean in this notebook."
   ]
  },
  {
   "cell_type": "code",
   "execution_count": 3,
   "id": "51c9b4cd",
   "metadata": {},
   "outputs": [],
   "source": [
    "raw_data = pd.read_csv('../Data/autoscout24-germany-dataset.csv')"
   ]
  },
  {
   "cell_type": "code",
   "execution_count": 4,
   "id": "6a13da60",
   "metadata": {},
   "outputs": [
    {
     "data": {
      "text/html": [
       "<div>\n",
       "<style scoped>\n",
       "    .dataframe tbody tr th:only-of-type {\n",
       "        vertical-align: middle;\n",
       "    }\n",
       "\n",
       "    .dataframe tbody tr th {\n",
       "        vertical-align: top;\n",
       "    }\n",
       "\n",
       "    .dataframe thead th {\n",
       "        text-align: right;\n",
       "    }\n",
       "</style>\n",
       "<table border=\"1\" class=\"dataframe\">\n",
       "  <thead>\n",
       "    <tr style=\"text-align: right;\">\n",
       "      <th></th>\n",
       "      <th>mileage</th>\n",
       "      <th>make</th>\n",
       "      <th>model</th>\n",
       "      <th>fuel</th>\n",
       "      <th>gear</th>\n",
       "      <th>offerType</th>\n",
       "      <th>price</th>\n",
       "      <th>hp</th>\n",
       "      <th>year</th>\n",
       "    </tr>\n",
       "  </thead>\n",
       "  <tbody>\n",
       "    <tr>\n",
       "      <th>0</th>\n",
       "      <td>235000</td>\n",
       "      <td>BMW</td>\n",
       "      <td>316</td>\n",
       "      <td>Diesel</td>\n",
       "      <td>Manual</td>\n",
       "      <td>Used</td>\n",
       "      <td>6800</td>\n",
       "      <td>116.0</td>\n",
       "      <td>2011</td>\n",
       "    </tr>\n",
       "    <tr>\n",
       "      <th>1</th>\n",
       "      <td>92800</td>\n",
       "      <td>Volkswagen</td>\n",
       "      <td>Golf</td>\n",
       "      <td>Gasoline</td>\n",
       "      <td>Manual</td>\n",
       "      <td>Used</td>\n",
       "      <td>6877</td>\n",
       "      <td>122.0</td>\n",
       "      <td>2011</td>\n",
       "    </tr>\n",
       "    <tr>\n",
       "      <th>2</th>\n",
       "      <td>149300</td>\n",
       "      <td>SEAT</td>\n",
       "      <td>Exeo</td>\n",
       "      <td>Gasoline</td>\n",
       "      <td>Manual</td>\n",
       "      <td>Used</td>\n",
       "      <td>6900</td>\n",
       "      <td>160.0</td>\n",
       "      <td>2011</td>\n",
       "    </tr>\n",
       "    <tr>\n",
       "      <th>3</th>\n",
       "      <td>96200</td>\n",
       "      <td>Renault</td>\n",
       "      <td>Megane</td>\n",
       "      <td>Gasoline</td>\n",
       "      <td>Manual</td>\n",
       "      <td>Used</td>\n",
       "      <td>6950</td>\n",
       "      <td>110.0</td>\n",
       "      <td>2011</td>\n",
       "    </tr>\n",
       "    <tr>\n",
       "      <th>4</th>\n",
       "      <td>156000</td>\n",
       "      <td>Peugeot</td>\n",
       "      <td>308</td>\n",
       "      <td>Gasoline</td>\n",
       "      <td>Manual</td>\n",
       "      <td>Used</td>\n",
       "      <td>6950</td>\n",
       "      <td>156.0</td>\n",
       "      <td>2011</td>\n",
       "    </tr>\n",
       "    <tr>\n",
       "      <th>5</th>\n",
       "      <td>147000</td>\n",
       "      <td>Toyota</td>\n",
       "      <td>Auris</td>\n",
       "      <td>Electric/Gasoline</td>\n",
       "      <td>Automatic</td>\n",
       "      <td>Used</td>\n",
       "      <td>6950</td>\n",
       "      <td>99.0</td>\n",
       "      <td>2011</td>\n",
       "    </tr>\n",
       "    <tr>\n",
       "      <th>6</th>\n",
       "      <td>91894</td>\n",
       "      <td>Renault</td>\n",
       "      <td>Scenic</td>\n",
       "      <td>Diesel</td>\n",
       "      <td>Manual</td>\n",
       "      <td>Used</td>\n",
       "      <td>6970</td>\n",
       "      <td>131.0</td>\n",
       "      <td>2011</td>\n",
       "    </tr>\n",
       "    <tr>\n",
       "      <th>7</th>\n",
       "      <td>127500</td>\n",
       "      <td>Opel</td>\n",
       "      <td>Zafira</td>\n",
       "      <td>Gasoline</td>\n",
       "      <td>Manual</td>\n",
       "      <td>Used</td>\n",
       "      <td>6972</td>\n",
       "      <td>116.0</td>\n",
       "      <td>2011</td>\n",
       "    </tr>\n",
       "    <tr>\n",
       "      <th>8</th>\n",
       "      <td>115000</td>\n",
       "      <td>Mazda</td>\n",
       "      <td>3</td>\n",
       "      <td>Gasoline</td>\n",
       "      <td>Automatic</td>\n",
       "      <td>Used</td>\n",
       "      <td>6980</td>\n",
       "      <td>150.0</td>\n",
       "      <td>2011</td>\n",
       "    </tr>\n",
       "    <tr>\n",
       "      <th>9</th>\n",
       "      <td>104</td>\n",
       "      <td>Ford</td>\n",
       "      <td>Transit</td>\n",
       "      <td>Diesel</td>\n",
       "      <td>Manual</td>\n",
       "      <td>Used</td>\n",
       "      <td>6990</td>\n",
       "      <td>86.0</td>\n",
       "      <td>2011</td>\n",
       "    </tr>\n",
       "    <tr>\n",
       "      <th>10</th>\n",
       "      <td>59580</td>\n",
       "      <td>Opel</td>\n",
       "      <td>Meriva</td>\n",
       "      <td>Diesel</td>\n",
       "      <td>Automatic</td>\n",
       "      <td>Used</td>\n",
       "      <td>6990</td>\n",
       "      <td>101.0</td>\n",
       "      <td>2011</td>\n",
       "    </tr>\n",
       "    <tr>\n",
       "      <th>11</th>\n",
       "      <td>84000</td>\n",
       "      <td>Volkswagen</td>\n",
       "      <td>Golf</td>\n",
       "      <td>Gasoline</td>\n",
       "      <td>Manual</td>\n",
       "      <td>Used</td>\n",
       "      <td>6990</td>\n",
       "      <td>105.0</td>\n",
       "      <td>2011</td>\n",
       "    </tr>\n",
       "    <tr>\n",
       "      <th>12</th>\n",
       "      <td>427000</td>\n",
       "      <td>Mercedes-Benz</td>\n",
       "      <td>E 250</td>\n",
       "      <td>Diesel</td>\n",
       "      <td>Automatic</td>\n",
       "      <td>Used</td>\n",
       "      <td>6990</td>\n",
       "      <td>204.0</td>\n",
       "      <td>2011</td>\n",
       "    </tr>\n",
       "    <tr>\n",
       "      <th>13</th>\n",
       "      <td>109000</td>\n",
       "      <td>Chevrolet</td>\n",
       "      <td>Orlando</td>\n",
       "      <td>Gasoline</td>\n",
       "      <td>Manual</td>\n",
       "      <td>Used</td>\n",
       "      <td>6990</td>\n",
       "      <td>141.0</td>\n",
       "      <td>2011</td>\n",
       "    </tr>\n",
       "    <tr>\n",
       "      <th>14</th>\n",
       "      <td>194020</td>\n",
       "      <td>Audi</td>\n",
       "      <td>A4</td>\n",
       "      <td>Diesel</td>\n",
       "      <td>Manual</td>\n",
       "      <td>Used</td>\n",
       "      <td>6999</td>\n",
       "      <td>120.0</td>\n",
       "      <td>2011</td>\n",
       "    </tr>\n",
       "    <tr>\n",
       "      <th>15</th>\n",
       "      <td>72000</td>\n",
       "      <td>Volkswagen</td>\n",
       "      <td>Polo</td>\n",
       "      <td>Gasoline</td>\n",
       "      <td>Manual</td>\n",
       "      <td>Used</td>\n",
       "      <td>6999</td>\n",
       "      <td>60.0</td>\n",
       "      <td>2011</td>\n",
       "    </tr>\n",
       "    <tr>\n",
       "      <th>16</th>\n",
       "      <td>190000</td>\n",
       "      <td>Renault</td>\n",
       "      <td>Espace</td>\n",
       "      <td>Diesel</td>\n",
       "      <td>Manual</td>\n",
       "      <td>Used</td>\n",
       "      <td>6999</td>\n",
       "      <td>150.0</td>\n",
       "      <td>2011</td>\n",
       "    </tr>\n",
       "    <tr>\n",
       "      <th>17</th>\n",
       "      <td>190000</td>\n",
       "      <td>Renault</td>\n",
       "      <td>Grand Espace</td>\n",
       "      <td>Diesel</td>\n",
       "      <td>Manual</td>\n",
       "      <td>Used</td>\n",
       "      <td>6999</td>\n",
       "      <td>150.0</td>\n",
       "      <td>2011</td>\n",
       "    </tr>\n",
       "    <tr>\n",
       "      <th>18</th>\n",
       "      <td>85700</td>\n",
       "      <td>Fiat</td>\n",
       "      <td>Sedici</td>\n",
       "      <td>Diesel</td>\n",
       "      <td>Manual</td>\n",
       "      <td>Used</td>\n",
       "      <td>6999</td>\n",
       "      <td>135.0</td>\n",
       "      <td>2011</td>\n",
       "    </tr>\n",
       "    <tr>\n",
       "      <th>19</th>\n",
       "      <td>82000</td>\n",
       "      <td>Opel</td>\n",
       "      <td>Corsa</td>\n",
       "      <td>Gasoline</td>\n",
       "      <td>Manual</td>\n",
       "      <td>Used</td>\n",
       "      <td>7000</td>\n",
       "      <td>101.0</td>\n",
       "      <td>2011</td>\n",
       "    </tr>\n",
       "  </tbody>\n",
       "</table>\n",
       "</div>"
      ],
      "text/plain": [
       "    mileage           make         model               fuel       gear  \\\n",
       "0    235000            BMW           316             Diesel     Manual   \n",
       "1     92800     Volkswagen          Golf           Gasoline     Manual   \n",
       "2    149300           SEAT          Exeo           Gasoline     Manual   \n",
       "3     96200        Renault        Megane           Gasoline     Manual   \n",
       "4    156000        Peugeot           308           Gasoline     Manual   \n",
       "5    147000         Toyota         Auris  Electric/Gasoline  Automatic   \n",
       "6     91894        Renault        Scenic             Diesel     Manual   \n",
       "7    127500           Opel        Zafira           Gasoline     Manual   \n",
       "8    115000          Mazda             3           Gasoline  Automatic   \n",
       "9       104           Ford       Transit             Diesel     Manual   \n",
       "10    59580           Opel        Meriva             Diesel  Automatic   \n",
       "11    84000     Volkswagen          Golf           Gasoline     Manual   \n",
       "12   427000  Mercedes-Benz         E 250             Diesel  Automatic   \n",
       "13   109000      Chevrolet       Orlando           Gasoline     Manual   \n",
       "14   194020           Audi            A4             Diesel     Manual   \n",
       "15    72000     Volkswagen          Polo           Gasoline     Manual   \n",
       "16   190000        Renault        Espace             Diesel     Manual   \n",
       "17   190000        Renault  Grand Espace             Diesel     Manual   \n",
       "18    85700           Fiat        Sedici             Diesel     Manual   \n",
       "19    82000           Opel         Corsa           Gasoline     Manual   \n",
       "\n",
       "   offerType  price     hp  year  \n",
       "0       Used   6800  116.0  2011  \n",
       "1       Used   6877  122.0  2011  \n",
       "2       Used   6900  160.0  2011  \n",
       "3       Used   6950  110.0  2011  \n",
       "4       Used   6950  156.0  2011  \n",
       "5       Used   6950   99.0  2011  \n",
       "6       Used   6970  131.0  2011  \n",
       "7       Used   6972  116.0  2011  \n",
       "8       Used   6980  150.0  2011  \n",
       "9       Used   6990   86.0  2011  \n",
       "10      Used   6990  101.0  2011  \n",
       "11      Used   6990  105.0  2011  \n",
       "12      Used   6990  204.0  2011  \n",
       "13      Used   6990  141.0  2011  \n",
       "14      Used   6999  120.0  2011  \n",
       "15      Used   6999   60.0  2011  \n",
       "16      Used   6999  150.0  2011  \n",
       "17      Used   6999  150.0  2011  \n",
       "18      Used   6999  135.0  2011  \n",
       "19      Used   7000  101.0  2011  "
      ]
     },
     "execution_count": 4,
     "metadata": {},
     "output_type": "execute_result"
    }
   ],
   "source": [
    "pd.set_option('display.max_columns', None)\n",
    "raw_data.head(20)"
   ]
  },
  {
   "cell_type": "code",
   "execution_count": 5,
   "id": "94861f43",
   "metadata": {},
   "outputs": [
    {
     "data": {
      "text/plain": [
       "(46405, 9)"
      ]
     },
     "execution_count": 5,
     "metadata": {},
     "output_type": "execute_result"
    }
   ],
   "source": [
    "raw_data.shape"
   ]
  },
  {
   "cell_type": "code",
   "execution_count": 6,
   "id": "b51858f0",
   "metadata": {},
   "outputs": [
    {
     "name": "stdout",
     "output_type": "stream",
     "text": [
      "<class 'pandas.core.frame.DataFrame'>\n",
      "Int64Index: 44265 entries, 0 to 46399\n",
      "Data columns (total 9 columns):\n",
      " #   Column     Non-Null Count  Dtype  \n",
      "---  ------     --------------  -----  \n",
      " 0   mileage    44265 non-null  int64  \n",
      " 1   make       44265 non-null  object \n",
      " 2   model      44128 non-null  object \n",
      " 3   fuel       44265 non-null  object \n",
      " 4   gear       44090 non-null  object \n",
      " 5   offerType  44265 non-null  object \n",
      " 6   price      44265 non-null  int64  \n",
      " 7   hp         44241 non-null  float64\n",
      " 8   year       44265 non-null  int64  \n",
      "dtypes: float64(1), int64(3), object(5)\n",
      "memory usage: 3.4+ MB\n"
     ]
    }
   ],
   "source": [
    "raw_data = raw_data.drop_duplicates(keep='first')\n",
    "raw_data.info()"
   ]
  },
  {
   "cell_type": "code",
   "execution_count": 7,
   "id": "4974ab78",
   "metadata": {},
   "outputs": [
    {
     "data": {
      "text/plain": [
       "mileage        0\n",
       "make           0\n",
       "model        137\n",
       "fuel           0\n",
       "gear         175\n",
       "offerType      0\n",
       "price          0\n",
       "hp            24\n",
       "year           0\n",
       "dtype: int64"
      ]
     },
     "execution_count": 7,
     "metadata": {},
     "output_type": "execute_result"
    }
   ],
   "source": [
    "raw_data.isna().sum() #checking missing values"
   ]
  },
  {
   "cell_type": "code",
   "execution_count": 8,
   "id": "a923f8fe",
   "metadata": {},
   "outputs": [
    {
     "data": {
      "text/plain": [
       "Index(['mileage', 'brand', 'model', 'fuel', 'gear', 'offer_type', 'price',\n",
       "       'hp', 'year'],\n",
       "      dtype='object')"
      ]
     },
     "execution_count": 8,
     "metadata": {},
     "output_type": "execute_result"
    }
   ],
   "source": [
    "raw_data.rename(columns = {'make':'brand', 'offerType':'offer_type'}, inplace = True) #renaming columsn properly\n",
    "raw_data.columns"
   ]
  },
  {
   "cell_type": "code",
   "execution_count": 9,
   "id": "44d2eddb",
   "metadata": {},
   "outputs": [
    {
     "data": {
      "text/plain": [
       "array(['BMW', 'Volkswagen', 'SEAT', 'Renault', 'Peugeot', 'Toyota',\n",
       "       'Opel', 'Mazda', 'Ford', 'Mercedes-Benz', 'Chevrolet', 'Audi',\n",
       "       'Fiat', 'Kia', 'Dacia', 'MINI', 'Hyundai', 'Skoda', 'Citroen',\n",
       "       'Infiniti', 'Suzuki', 'SsangYong', 'smart', 'Cupra', 'Volvo',\n",
       "       'Jaguar', 'Porsche', 'Nissan', 'Honda', 'Lada', 'Mitsubishi',\n",
       "       'Others', 'Lexus', 'Jeep', 'Maserati', 'Bentley', 'Land', 'Alfa',\n",
       "       'Subaru', 'Dodge', 'Microcar', 'Lamborghini', 'Baic', 'Tesla',\n",
       "       'Chrysler', '9ff', 'McLaren', 'Aston', 'Rolls-Royce', 'Alpine',\n",
       "       'Lancia', 'Abarth', 'DS', 'Daihatsu', 'Ligier', 'Ferrari',\n",
       "       'Caravans-Wohnm', 'Aixam', 'Piaggio', 'Zhidou', 'Morgan',\n",
       "       'Maybach', 'Tazzari', 'Trucks-Lkw', 'RAM', 'Iveco', 'DAF',\n",
       "       'Alpina', 'Polestar', 'Brilliance', 'FISKER', 'Cadillac',\n",
       "       'Trailer-Anhänger', 'Isuzu', 'Corvette', 'DFSK', 'Estrima'],\n",
       "      dtype=object)"
      ]
     },
     "execution_count": 9,
     "metadata": {},
     "output_type": "execute_result"
    }
   ],
   "source": [
    "raw_data['brand'].unique()"
   ]
  },
  {
   "cell_type": "code",
   "execution_count": 10,
   "id": "5da904b4",
   "metadata": {},
   "outputs": [
    {
     "data": {
      "text/plain": [
       "<AxesSubplot:ylabel='offer_type'>"
      ]
     },
     "execution_count": 10,
     "metadata": {},
     "output_type": "execute_result"
    },
    {
     "data": {
      "image/png": "[encoded data removed]",
      "text/plain": [
       "<Figure size 640x480 with 1 Axes>"
      ]
     },
     "metadata": {},
     "output_type": "display_data"
    }
   ],
   "source": [
    "raw_data['offer_type'].value_counts().plot(kind=\"pie\")"
   ]
  },
  {
   "cell_type": "code",
   "execution_count": 11,
   "id": "8bf01d4e",
   "metadata": {},
   "outputs": [
    {
     "data": {
      "text/plain": [
       "Used              38840\n",
       "Demonstration      2246\n",
       "Pre-registered     2083\n",
       "Employee's car     1085\n",
       "New                  11\n",
       "Name: offer_type, dtype: int64"
      ]
     },
     "execution_count": 11,
     "metadata": {},
     "output_type": "execute_result"
    }
   ],
   "source": [
    "raw_data['offer_type'].value_counts()"
   ]
  },
  {
   "cell_type": "code",
   "execution_count": 12,
   "id": "2f2b1cf8",
   "metadata": {},
   "outputs": [
    {
     "data": {
      "text/plain": [
       "Gasoline             27382\n",
       "Diesel               14749\n",
       "Electric/Gasoline     1051\n",
       "Electric               732\n",
       "CNG                    114\n",
       "LPG                    110\n",
       "Others                  52\n",
       "Electric/Diesel         49\n",
       "-/- (Fuel)              23\n",
       "Ethanol                  2\n",
       "Hydrogen                 1\n",
       "Name: fuel, dtype: int64"
      ]
     },
     "execution_count": 12,
     "metadata": {},
     "output_type": "execute_result"
    }
   ],
   "source": [
    "raw_data['fuel'].value_counts()"
   ]
  },
  {
   "cell_type": "code",
   "execution_count": 13,
   "id": "8b2d989f",
   "metadata": {},
   "outputs": [
    {
     "data": {
      "text/plain": [
       "Volkswagen    6703\n",
       "Opel          4599\n",
       "Ford          4276\n",
       "Skoda         2752\n",
       "Renault       2695\n",
       "              ... \n",
       "9ff              1\n",
       "Brilliance       1\n",
       "FISKER           1\n",
       "Tazzari          1\n",
       "Isuzu            1\n",
       "Name: brand, Length: 77, dtype: int64"
      ]
     },
     "execution_count": 13,
     "metadata": {},
     "output_type": "execute_result"
    }
   ],
   "source": [
    "raw_data['brand'].value_counts()"
   ]
  },
  {
   "cell_type": "code",
   "execution_count": 14,
   "id": "d1bdea96",
   "metadata": {},
   "outputs": [
    {
     "data": {
      "text/plain": [
       "Manual            28816\n",
       "Automatic         15220\n",
       "Semi-automatic       54\n",
       "Name: gear, dtype: int64"
      ]
     },
     "execution_count": 14,
     "metadata": {},
     "output_type": "execute_result"
    }
   ],
   "source": [
    "raw_data['gear'].value_counts()"
   ]
  },
  {
   "cell_type": "code",
   "execution_count": 15,
   "id": "67615428",
   "metadata": {},
   "outputs": [
    {
     "data": {
      "text/plain": [
       "Golf                         1453\n",
       "Corsa                        1397\n",
       "Fiesta                       1236\n",
       "Astra                        1142\n",
       "Focus                         948\n",
       "                             ... \n",
       "Gallardo                        1\n",
       "S60 Cross Country               1\n",
       "John Cooper Works Clubman       1\n",
       "323                             1\n",
       "NV250                           1\n",
       "Name: model, Length: 841, dtype: int64"
      ]
     },
     "execution_count": 15,
     "metadata": {},
     "output_type": "execute_result"
    }
   ],
   "source": [
    "raw_data['model'].value_counts()"
   ]
  },
  {
   "cell_type": "code",
   "execution_count": 16,
   "id": "ff08121d",
   "metadata": {},
   "outputs": [
    {
     "data": {
      "text/plain": [
       "1199900"
      ]
     },
     "execution_count": 16,
     "metadata": {},
     "output_type": "execute_result"
    }
   ],
   "source": [
    "raw_data['price'].max()"
   ]
  },
  {
   "cell_type": "code",
   "execution_count": 17,
   "id": "02009fc0",
   "metadata": {},
   "outputs": [
    {
     "data": {
      "text/plain": [
       "1100"
      ]
     },
     "execution_count": 17,
     "metadata": {},
     "output_type": "execute_result"
    }
   ],
   "source": [
    "raw_data['price'].min()"
   ]
  },
  {
   "cell_type": "code",
   "execution_count": 18,
   "id": "1c4f1806",
   "metadata": {},
   "outputs": [
    {
     "data": {
      "image/png": "[encoded data removed]",
      "text/plain": [
       "<Figure size 500x500 with 1 Axes>"
      ]
     },
     "metadata": {},
     "output_type": "display_data"
    }
   ],
   "source": [
    "sns.displot(x='price', data=raw_data)\n",
    "plt.show()"
   ]
  },
  {
   "cell_type": "markdown",
   "id": "49f22101",
   "metadata": {},
   "source": [
    "### Checking Columns one by one ( dealing with missing values etc)"
   ]
  },
  {
   "cell_type": "code",
   "execution_count": 19,
   "id": "b7df11b0",
   "metadata": {},
   "outputs": [
    {
     "data": {
      "text/plain": [
       "Index(['mileage', 'brand', 'model', 'fuel', 'gear', 'offer_type', 'price',\n",
       "       'hp', 'year'],\n",
       "      dtype='object')"
      ]
     },
     "execution_count": 19,
     "metadata": {},
     "output_type": "execute_result"
    }
   ],
   "source": [
    "raw_data.columns"
   ]
  },
  {
   "cell_type": "code",
   "execution_count": 20,
   "id": "4893830d",
   "metadata": {},
   "outputs": [
    {
     "data": {
      "text/plain": [
       "mileage         0\n",
       "brand           0\n",
       "model         137\n",
       "fuel            0\n",
       "gear          175\n",
       "offer_type      0\n",
       "price           0\n",
       "hp             24\n",
       "year            0\n",
       "dtype: int64"
      ]
     },
     "execution_count": 20,
     "metadata": {},
     "output_type": "execute_result"
    }
   ],
   "source": [
    "raw_data.isna().sum()"
   ]
  },
  {
   "cell_type": "markdown",
   "id": "e1518571",
   "metadata": {},
   "source": [
    "+ column ['price']"
   ]
  },
  {
   "cell_type": "code",
   "execution_count": 21,
   "id": "3eb1a03c",
   "metadata": {},
   "outputs": [
    {
     "data": {
      "text/plain": [
       "7990     450\n",
       "6990     422\n",
       "8990     411\n",
       "5990     399\n",
       "9990     376\n",
       "        ... \n",
       "37779      1\n",
       "22190      1\n",
       "17951      1\n",
       "19281      1\n",
       "88960      1\n",
       "Name: price, Length: 6668, dtype: int64"
      ]
     },
     "execution_count": 21,
     "metadata": {},
     "output_type": "execute_result"
    }
   ],
   "source": [
    "raw_data['price'].value_counts()"
   ]
  },
  {
   "cell_type": "code",
   "execution_count": 22,
   "id": "a2cf3a41",
   "metadata": {},
   "outputs": [
    {
     "data": {
      "text/plain": [
       "0"
      ]
     },
     "execution_count": 22,
     "metadata": {},
     "output_type": "execute_result"
    }
   ],
   "source": [
    "raw_data['price'].isna().sum()"
   ]
  },
  {
   "cell_type": "markdown",
   "id": "fd7bd660",
   "metadata": {},
   "source": [
    "+ column ['mileage']"
   ]
  },
  {
   "cell_type": "code",
   "execution_count": 23,
   "id": "e087d4b6",
   "metadata": {},
   "outputs": [
    {
     "data": {
      "text/plain": [
       "10        958\n",
       "50        297\n",
       "20        288\n",
       "5         215\n",
       "100       209\n",
       "         ... \n",
       "101245      1\n",
       "23699       1\n",
       "76263       1\n",
       "71594       1\n",
       "837         1\n",
       "Name: mileage, Length: 20117, dtype: int64"
      ]
     },
     "execution_count": 23,
     "metadata": {},
     "output_type": "execute_result"
    }
   ],
   "source": [
    "raw_data['mileage'].value_counts()"
   ]
  },
  {
   "cell_type": "code",
   "execution_count": 24,
   "id": "2d9baf1e",
   "metadata": {},
   "outputs": [
    {
     "data": {
      "text/plain": [
       "0"
      ]
     },
     "execution_count": 24,
     "metadata": {},
     "output_type": "execute_result"
    }
   ],
   "source": [
    "raw_data['mileage'].isna().sum()"
   ]
  },
  {
   "cell_type": "markdown",
   "id": "403da744",
   "metadata": {},
   "source": [
    "column ['brand']"
   ]
  },
  {
   "cell_type": "code",
   "execution_count": 25,
   "id": "add3d03c",
   "metadata": {},
   "outputs": [
    {
     "data": {
      "text/plain": [
       "Volkswagen    6703\n",
       "Opel          4599\n",
       "Ford          4276\n",
       "Skoda         2752\n",
       "Renault       2695\n",
       "              ... \n",
       "9ff              1\n",
       "Brilliance       1\n",
       "FISKER           1\n",
       "Tazzari          1\n",
       "Isuzu            1\n",
       "Name: brand, Length: 77, dtype: int64"
      ]
     },
     "execution_count": 25,
     "metadata": {},
     "output_type": "execute_result"
    }
   ],
   "source": [
    "raw_data['brand'].value_counts()"
   ]
  },
  {
   "cell_type": "code",
   "execution_count": 26,
   "id": "b265d3a4",
   "metadata": {},
   "outputs": [
    {
     "data": {
      "text/plain": [
       "0"
      ]
     },
     "execution_count": 26,
     "metadata": {},
     "output_type": "execute_result"
    }
   ],
   "source": [
    "raw_data['brand'].isna().sum()"
   ]
  },
  {
   "cell_type": "markdown",
   "id": "75e00819",
   "metadata": {},
   "source": [
    "column ['model']"
   ]
  },
  {
   "cell_type": "code",
   "execution_count": 27,
   "id": "4ea8312d",
   "metadata": {},
   "outputs": [
    {
     "data": {
      "text/plain": [
       "Golf                         1453\n",
       "Corsa                        1397\n",
       "Fiesta                       1236\n",
       "Astra                        1142\n",
       "Focus                         948\n",
       "                             ... \n",
       "Gallardo                        1\n",
       "S60 Cross Country               1\n",
       "John Cooper Works Clubman       1\n",
       "323                             1\n",
       "NV250                           1\n",
       "Name: model, Length: 841, dtype: int64"
      ]
     },
     "execution_count": 27,
     "metadata": {},
     "output_type": "execute_result"
    }
   ],
   "source": [
    "raw_data['model'].value_counts()"
   ]
  },
  {
   "cell_type": "code",
   "execution_count": 28,
   "id": "0c464b56",
   "metadata": {},
   "outputs": [
    {
     "data": {
      "text/plain": [
       "137"
      ]
     },
     "execution_count": 28,
     "metadata": {},
     "output_type": "execute_result"
    }
   ],
   "source": [
    "raw_data['model'].isna().sum()"
   ]
  },
  {
   "cell_type": "code",
   "execution_count": 29,
   "id": "1e67e1f3",
   "metadata": {},
   "outputs": [],
   "source": [
    "raw_data=raw_data.dropna(subset = ['model']) #droppinh non values"
   ]
  },
  {
   "cell_type": "code",
   "execution_count": 30,
   "id": "ab7f44d5",
   "metadata": {
    "scrolled": true
   },
   "outputs": [
    {
     "data": {
      "text/plain": [
       "0"
      ]
     },
     "execution_count": 30,
     "metadata": {},
     "output_type": "execute_result"
    }
   ],
   "source": [
    "raw_data['model'].isna().sum()"
   ]
  },
  {
   "cell_type": "code",
   "execution_count": 31,
   "id": "78b97074",
   "metadata": {},
   "outputs": [
    {
     "data": {
      "text/html": [
       "<div>\n",
       "<style scoped>\n",
       "    .dataframe tbody tr th:only-of-type {\n",
       "        vertical-align: middle;\n",
       "    }\n",
       "\n",
       "    .dataframe tbody tr th {\n",
       "        vertical-align: top;\n",
       "    }\n",
       "\n",
       "    .dataframe thead th {\n",
       "        text-align: right;\n",
       "    }\n",
       "</style>\n",
       "<table border=\"1\" class=\"dataframe\">\n",
       "  <thead>\n",
       "    <tr style=\"text-align: right;\">\n",
       "      <th></th>\n",
       "      <th></th>\n",
       "      <th>0</th>\n",
       "    </tr>\n",
       "    <tr>\n",
       "      <th>brand</th>\n",
       "      <th>model</th>\n",
       "      <th></th>\n",
       "    </tr>\n",
       "  </thead>\n",
       "  <tbody>\n",
       "    <tr>\n",
       "      <th>Volkswagen</th>\n",
       "      <th>Golf</th>\n",
       "      <td>1453</td>\n",
       "    </tr>\n",
       "    <tr>\n",
       "      <th>Opel</th>\n",
       "      <th>Corsa</th>\n",
       "      <td>1397</td>\n",
       "    </tr>\n",
       "    <tr>\n",
       "      <th>Ford</th>\n",
       "      <th>Fiesta</th>\n",
       "      <td>1236</td>\n",
       "    </tr>\n",
       "    <tr>\n",
       "      <th>Opel</th>\n",
       "      <th>Astra</th>\n",
       "      <td>1142</td>\n",
       "    </tr>\n",
       "    <tr>\n",
       "      <th>Ford</th>\n",
       "      <th>Focus</th>\n",
       "      <td>948</td>\n",
       "    </tr>\n",
       "    <tr>\n",
       "      <th>...</th>\n",
       "      <th>...</th>\n",
       "      <td>...</td>\n",
       "    </tr>\n",
       "    <tr>\n",
       "      <th>Piaggio</th>\n",
       "      <th>Porter</th>\n",
       "      <td>1</td>\n",
       "    </tr>\n",
       "    <tr>\n",
       "      <th rowspan=\"3\" valign=\"top\">Dodge</th>\n",
       "      <th>Nitro</th>\n",
       "      <td>1</td>\n",
       "    </tr>\n",
       "    <tr>\n",
       "      <th>Journey</th>\n",
       "      <td>1</td>\n",
       "    </tr>\n",
       "    <tr>\n",
       "      <th>Grand Caravan</th>\n",
       "      <td>1</td>\n",
       "    </tr>\n",
       "    <tr>\n",
       "      <th>Maserati</th>\n",
       "      <th>GranCabrio</th>\n",
       "      <td>1</td>\n",
       "    </tr>\n",
       "  </tbody>\n",
       "</table>\n",
       "<p>850 rows × 1 columns</p>\n",
       "</div>"
      ],
      "text/plain": [
       "                             0\n",
       "brand      model              \n",
       "Volkswagen Golf           1453\n",
       "Opel       Corsa          1397\n",
       "Ford       Fiesta         1236\n",
       "Opel       Astra          1142\n",
       "Ford       Focus           948\n",
       "...                        ...\n",
       "Piaggio    Porter            1\n",
       "Dodge      Nitro             1\n",
       "           Journey           1\n",
       "           Grand Caravan     1\n",
       "Maserati   GranCabrio        1\n",
       "\n",
       "[850 rows x 1 columns]"
      ]
     },
     "execution_count": 31,
     "metadata": {},
     "output_type": "execute_result"
    }
   ],
   "source": [
    "# Count the values of each distinct make and model in the dataset\n",
    "brand_model_counts = raw_data[['brand','model']].value_counts()\n",
    "\n",
    "# Transform the resulting Pandas series into a dataframe\n",
    "brand_model_counts = pd.DataFrame(brand_model_counts)\n",
    "\n",
    "# Inspect the result\n",
    "brand_model_counts"
   ]
  },
  {
   "cell_type": "code",
   "execution_count": 32,
   "id": "628395a1",
   "metadata": {},
   "outputs": [
    {
     "data": {
      "text/html": [
       "<div>\n",
       "<style scoped>\n",
       "    .dataframe tbody tr th:only-of-type {\n",
       "        vertical-align: middle;\n",
       "    }\n",
       "\n",
       "    .dataframe tbody tr th {\n",
       "        vertical-align: top;\n",
       "    }\n",
       "\n",
       "    .dataframe thead th {\n",
       "        text-align: right;\n",
       "    }\n",
       "</style>\n",
       "<table border=\"1\" class=\"dataframe\">\n",
       "  <thead>\n",
       "    <tr style=\"text-align: right;\">\n",
       "      <th></th>\n",
       "      <th>brand</th>\n",
       "      <th>model</th>\n",
       "      <th>count</th>\n",
       "    </tr>\n",
       "  </thead>\n",
       "  <tbody>\n",
       "    <tr>\n",
       "      <th>0</th>\n",
       "      <td>Volkswagen</td>\n",
       "      <td>Golf</td>\n",
       "      <td>1453</td>\n",
       "    </tr>\n",
       "    <tr>\n",
       "      <th>1</th>\n",
       "      <td>Opel</td>\n",
       "      <td>Corsa</td>\n",
       "      <td>1397</td>\n",
       "    </tr>\n",
       "    <tr>\n",
       "      <th>2</th>\n",
       "      <td>Ford</td>\n",
       "      <td>Fiesta</td>\n",
       "      <td>1236</td>\n",
       "    </tr>\n",
       "    <tr>\n",
       "      <th>3</th>\n",
       "      <td>Opel</td>\n",
       "      <td>Astra</td>\n",
       "      <td>1142</td>\n",
       "    </tr>\n",
       "    <tr>\n",
       "      <th>4</th>\n",
       "      <td>Ford</td>\n",
       "      <td>Focus</td>\n",
       "      <td>948</td>\n",
       "    </tr>\n",
       "    <tr>\n",
       "      <th>...</th>\n",
       "      <td>...</td>\n",
       "      <td>...</td>\n",
       "      <td>...</td>\n",
       "    </tr>\n",
       "    <tr>\n",
       "      <th>845</th>\n",
       "      <td>Piaggio</td>\n",
       "      <td>Porter</td>\n",
       "      <td>1</td>\n",
       "    </tr>\n",
       "    <tr>\n",
       "      <th>846</th>\n",
       "      <td>Dodge</td>\n",
       "      <td>Nitro</td>\n",
       "      <td>1</td>\n",
       "    </tr>\n",
       "    <tr>\n",
       "      <th>847</th>\n",
       "      <td>Dodge</td>\n",
       "      <td>Journey</td>\n",
       "      <td>1</td>\n",
       "    </tr>\n",
       "    <tr>\n",
       "      <th>848</th>\n",
       "      <td>Dodge</td>\n",
       "      <td>Grand Caravan</td>\n",
       "      <td>1</td>\n",
       "    </tr>\n",
       "    <tr>\n",
       "      <th>849</th>\n",
       "      <td>Maserati</td>\n",
       "      <td>GranCabrio</td>\n",
       "      <td>1</td>\n",
       "    </tr>\n",
       "  </tbody>\n",
       "</table>\n",
       "<p>850 rows × 3 columns</p>\n",
       "</div>"
      ],
      "text/plain": [
       "          brand          model  count\n",
       "0    Volkswagen           Golf   1453\n",
       "1          Opel          Corsa   1397\n",
       "2          Ford         Fiesta   1236\n",
       "3          Opel          Astra   1142\n",
       "4          Ford          Focus    948\n",
       "..          ...            ...    ...\n",
       "845     Piaggio         Porter      1\n",
       "846       Dodge          Nitro      1\n",
       "847       Dodge        Journey      1\n",
       "848       Dodge  Grand Caravan      1\n",
       "849    Maserati     GranCabrio      1\n",
       "\n",
       "[850 rows x 3 columns]"
      ]
     },
     "execution_count": 32,
     "metadata": {},
     "output_type": "execute_result"
    }
   ],
   "source": [
    "# Reset the index of the dataframe\n",
    "brand_model_counts.reset_index(inplace=True)\n",
    "\n",
    "# Change the name of the count column to 'count'\n",
    "brand_model_counts.columns = ['brand','model','count']\n",
    "\n",
    "# Inspect the result\n",
    "brand_model_counts"
   ]
  },
  {
   "cell_type": "code",
   "execution_count": 33,
   "id": "50177130",
   "metadata": {},
   "outputs": [
    {
     "data": {
      "text/html": [
       "<div>\n",
       "<style scoped>\n",
       "    .dataframe tbody tr th:only-of-type {\n",
       "        vertical-align: middle;\n",
       "    }\n",
       "\n",
       "    .dataframe tbody tr th {\n",
       "        vertical-align: top;\n",
       "    }\n",
       "\n",
       "    .dataframe thead th {\n",
       "        text-align: right;\n",
       "    }\n",
       "</style>\n",
       "<table border=\"1\" class=\"dataframe\">\n",
       "  <thead>\n",
       "    <tr style=\"text-align: right;\">\n",
       "      <th></th>\n",
       "      <th>brand</th>\n",
       "      <th>model</th>\n",
       "      <th>count</th>\n",
       "    </tr>\n",
       "  </thead>\n",
       "  <tbody>\n",
       "    <tr>\n",
       "      <th>0</th>\n",
       "      <td>Volkswagen</td>\n",
       "      <td>Golf</td>\n",
       "      <td>1453</td>\n",
       "    </tr>\n",
       "    <tr>\n",
       "      <th>1</th>\n",
       "      <td>Opel</td>\n",
       "      <td>Corsa</td>\n",
       "      <td>1397</td>\n",
       "    </tr>\n",
       "    <tr>\n",
       "      <th>2</th>\n",
       "      <td>Ford</td>\n",
       "      <td>Fiesta</td>\n",
       "      <td>1236</td>\n",
       "    </tr>\n",
       "    <tr>\n",
       "      <th>3</th>\n",
       "      <td>Opel</td>\n",
       "      <td>Astra</td>\n",
       "      <td>1142</td>\n",
       "    </tr>\n",
       "    <tr>\n",
       "      <th>4</th>\n",
       "      <td>Ford</td>\n",
       "      <td>Focus</td>\n",
       "      <td>948</td>\n",
       "    </tr>\n",
       "    <tr>\n",
       "      <th>...</th>\n",
       "      <td>...</td>\n",
       "      <td>...</td>\n",
       "      <td>...</td>\n",
       "    </tr>\n",
       "    <tr>\n",
       "      <th>105</th>\n",
       "      <td>Ford</td>\n",
       "      <td>Transit</td>\n",
       "      <td>102</td>\n",
       "    </tr>\n",
       "    <tr>\n",
       "      <th>106</th>\n",
       "      <td>Skoda</td>\n",
       "      <td>Kodiaq</td>\n",
       "      <td>101</td>\n",
       "    </tr>\n",
       "    <tr>\n",
       "      <th>107</th>\n",
       "      <td>Volkswagen</td>\n",
       "      <td>Golf Plus</td>\n",
       "      <td>101</td>\n",
       "    </tr>\n",
       "    <tr>\n",
       "      <th>108</th>\n",
       "      <td>Mazda</td>\n",
       "      <td>6</td>\n",
       "      <td>100</td>\n",
       "    </tr>\n",
       "    <tr>\n",
       "      <th>109</th>\n",
       "      <td>Dacia</td>\n",
       "      <td>Logan</td>\n",
       "      <td>100</td>\n",
       "    </tr>\n",
       "  </tbody>\n",
       "</table>\n",
       "<p>110 rows × 3 columns</p>\n",
       "</div>"
      ],
      "text/plain": [
       "          brand      model  count\n",
       "0    Volkswagen       Golf   1453\n",
       "1          Opel      Corsa   1397\n",
       "2          Ford     Fiesta   1236\n",
       "3          Opel      Astra   1142\n",
       "4          Ford      Focus    948\n",
       "..          ...        ...    ...\n",
       "105        Ford    Transit    102\n",
       "106       Skoda     Kodiaq    101\n",
       "107  Volkswagen  Golf Plus    101\n",
       "108       Mazda          6    100\n",
       "109       Dacia      Logan    100\n",
       "\n",
       "[110 rows x 3 columns]"
      ]
     },
     "execution_count": 33,
     "metadata": {},
     "output_type": "execute_result"
    }
   ],
   "source": [
    "brand_model_counts = brand_model_counts[brand_model_counts['count'] >= 100]\n",
    "brand_model_counts"
   ]
  },
  {
   "cell_type": "code",
   "execution_count": 34,
   "id": "c99db510",
   "metadata": {},
   "outputs": [
    {
     "data": {
      "text/plain": [
       "32376"
      ]
     },
     "execution_count": 34,
     "metadata": {},
     "output_type": "execute_result"
    }
   ],
   "source": [
    "brand_model_counts['count'].sum() # we keep only this dataframe for further analysis"
   ]
  },
  {
   "cell_type": "code",
   "execution_count": 35,
   "id": "84d20729",
   "metadata": {},
   "outputs": [
    {
     "name": "stderr",
     "output_type": "stream",
     "text": [
      "C:\\Users\\asgar\\AppData\\Local\\Temp\\ipykernel_2700\\358003487.py:1: SettingWithCopyWarning: \n",
      "A value is trying to be set on a copy of a slice from a DataFrame.\n",
      "Try using .loc[row_indexer,col_indexer] = value instead\n",
      "\n",
      "See the caveats in the documentation: https://pandas.pydata.org/pandas-docs/stable/user_guide/indexing.html#returning-a-view-versus-a-copy\n",
      "  brand_model_counts.loc[:,'brand+model'] = brand_model_counts.loc[:,'brand'] + \" \" + brand_model_counts.loc[:,'model']\n"
     ]
    },
    {
     "data": {
      "text/plain": [
       "0           Volkswagen Golf\n",
       "1                Opel Corsa\n",
       "2               Ford Fiesta\n",
       "3                Opel Astra\n",
       "4                Ford Focus\n",
       "               ...         \n",
       "105            Ford Transit\n",
       "106            Skoda Kodiaq\n",
       "107    Volkswagen Golf Plus\n",
       "108                 Mazda 6\n",
       "109             Dacia Logan\n",
       "Name: brand+model, Length: 110, dtype: object"
      ]
     },
     "execution_count": 35,
     "metadata": {},
     "output_type": "execute_result"
    }
   ],
   "source": [
    "brand_model_counts.loc[:,'brand+model'] = brand_model_counts.loc[:,'brand'] + \" \" + brand_model_counts.loc[:,'model']\n",
    "brand_model_counts['brand+model']"
   ]
  },
  {
   "cell_type": "code",
   "execution_count": 36,
   "id": "1d70f3a7",
   "metadata": {},
   "outputs": [
    {
     "data": {
      "text/html": [
       "<div>\n",
       "<style scoped>\n",
       "    .dataframe tbody tr th:only-of-type {\n",
       "        vertical-align: middle;\n",
       "    }\n",
       "\n",
       "    .dataframe tbody tr th {\n",
       "        vertical-align: top;\n",
       "    }\n",
       "\n",
       "    .dataframe thead th {\n",
       "        text-align: right;\n",
       "    }\n",
       "</style>\n",
       "<table border=\"1\" class=\"dataframe\">\n",
       "  <thead>\n",
       "    <tr style=\"text-align: right;\">\n",
       "      <th></th>\n",
       "      <th>mileage</th>\n",
       "      <th>brand</th>\n",
       "      <th>model</th>\n",
       "      <th>fuel</th>\n",
       "      <th>gear</th>\n",
       "      <th>offer_type</th>\n",
       "      <th>price</th>\n",
       "      <th>hp</th>\n",
       "      <th>year</th>\n",
       "      <th>brand_model</th>\n",
       "    </tr>\n",
       "  </thead>\n",
       "  <tbody>\n",
       "    <tr>\n",
       "      <th>0</th>\n",
       "      <td>235000</td>\n",
       "      <td>BMW</td>\n",
       "      <td>316</td>\n",
       "      <td>Diesel</td>\n",
       "      <td>Manual</td>\n",
       "      <td>Used</td>\n",
       "      <td>6800</td>\n",
       "      <td>116.0</td>\n",
       "      <td>2011</td>\n",
       "      <td>BMW 316</td>\n",
       "    </tr>\n",
       "    <tr>\n",
       "      <th>1</th>\n",
       "      <td>92800</td>\n",
       "      <td>Volkswagen</td>\n",
       "      <td>Golf</td>\n",
       "      <td>Gasoline</td>\n",
       "      <td>Manual</td>\n",
       "      <td>Used</td>\n",
       "      <td>6877</td>\n",
       "      <td>122.0</td>\n",
       "      <td>2011</td>\n",
       "      <td>Volkswagen Golf</td>\n",
       "    </tr>\n",
       "    <tr>\n",
       "      <th>2</th>\n",
       "      <td>149300</td>\n",
       "      <td>SEAT</td>\n",
       "      <td>Exeo</td>\n",
       "      <td>Gasoline</td>\n",
       "      <td>Manual</td>\n",
       "      <td>Used</td>\n",
       "      <td>6900</td>\n",
       "      <td>160.0</td>\n",
       "      <td>2011</td>\n",
       "      <td>SEAT Exeo</td>\n",
       "    </tr>\n",
       "    <tr>\n",
       "      <th>3</th>\n",
       "      <td>96200</td>\n",
       "      <td>Renault</td>\n",
       "      <td>Megane</td>\n",
       "      <td>Gasoline</td>\n",
       "      <td>Manual</td>\n",
       "      <td>Used</td>\n",
       "      <td>6950</td>\n",
       "      <td>110.0</td>\n",
       "      <td>2011</td>\n",
       "      <td>Renault Megane</td>\n",
       "    </tr>\n",
       "    <tr>\n",
       "      <th>4</th>\n",
       "      <td>156000</td>\n",
       "      <td>Peugeot</td>\n",
       "      <td>308</td>\n",
       "      <td>Gasoline</td>\n",
       "      <td>Manual</td>\n",
       "      <td>Used</td>\n",
       "      <td>6950</td>\n",
       "      <td>156.0</td>\n",
       "      <td>2011</td>\n",
       "      <td>Peugeot 308</td>\n",
       "    </tr>\n",
       "  </tbody>\n",
       "</table>\n",
       "</div>"
      ],
      "text/plain": [
       "   mileage       brand   model      fuel    gear offer_type  price     hp  \\\n",
       "0   235000         BMW     316    Diesel  Manual       Used   6800  116.0   \n",
       "1    92800  Volkswagen    Golf  Gasoline  Manual       Used   6877  122.0   \n",
       "2   149300        SEAT    Exeo  Gasoline  Manual       Used   6900  160.0   \n",
       "3    96200     Renault  Megane  Gasoline  Manual       Used   6950  110.0   \n",
       "4   156000     Peugeot     308  Gasoline  Manual       Used   6950  156.0   \n",
       "\n",
       "   year      brand_model  \n",
       "0  2011          BMW 316  \n",
       "1  2011  Volkswagen Golf  \n",
       "2  2011        SEAT Exeo  \n",
       "3  2011   Renault Megane  \n",
       "4  2011      Peugeot 308  "
      ]
     },
     "execution_count": 36,
     "metadata": {},
     "output_type": "execute_result"
    }
   ],
   "source": [
    "# Make a new column in the cars dataset that combines the make and model for every row\n",
    "raw_data['brand_model'] = raw_data['brand'] + \" \" + raw_data['model']\n",
    "raw_data.head()"
   ]
  },
  {
   "cell_type": "code",
   "execution_count": 37,
   "id": "5946eeaa",
   "metadata": {},
   "outputs": [
    {
     "data": {
      "text/html": [
       "<div>\n",
       "<style scoped>\n",
       "    .dataframe tbody tr th:only-of-type {\n",
       "        vertical-align: middle;\n",
       "    }\n",
       "\n",
       "    .dataframe tbody tr th {\n",
       "        vertical-align: top;\n",
       "    }\n",
       "\n",
       "    .dataframe thead th {\n",
       "        text-align: right;\n",
       "    }\n",
       "</style>\n",
       "<table border=\"1\" class=\"dataframe\">\n",
       "  <thead>\n",
       "    <tr style=\"text-align: right;\">\n",
       "      <th></th>\n",
       "      <th>mileage</th>\n",
       "      <th>brand</th>\n",
       "      <th>model</th>\n",
       "      <th>fuel</th>\n",
       "      <th>gear</th>\n",
       "      <th>offer_type</th>\n",
       "      <th>price</th>\n",
       "      <th>hp</th>\n",
       "      <th>year</th>\n",
       "      <th>brand_model</th>\n",
       "    </tr>\n",
       "  </thead>\n",
       "  <tbody>\n",
       "    <tr>\n",
       "      <th>1</th>\n",
       "      <td>92800</td>\n",
       "      <td>Volkswagen</td>\n",
       "      <td>Golf</td>\n",
       "      <td>Gasoline</td>\n",
       "      <td>Manual</td>\n",
       "      <td>Used</td>\n",
       "      <td>6877</td>\n",
       "      <td>122.0</td>\n",
       "      <td>2011</td>\n",
       "      <td>Volkswagen Golf</td>\n",
       "    </tr>\n",
       "    <tr>\n",
       "      <th>3</th>\n",
       "      <td>96200</td>\n",
       "      <td>Renault</td>\n",
       "      <td>Megane</td>\n",
       "      <td>Gasoline</td>\n",
       "      <td>Manual</td>\n",
       "      <td>Used</td>\n",
       "      <td>6950</td>\n",
       "      <td>110.0</td>\n",
       "      <td>2011</td>\n",
       "      <td>Renault Megane</td>\n",
       "    </tr>\n",
       "    <tr>\n",
       "      <th>4</th>\n",
       "      <td>156000</td>\n",
       "      <td>Peugeot</td>\n",
       "      <td>308</td>\n",
       "      <td>Gasoline</td>\n",
       "      <td>Manual</td>\n",
       "      <td>Used</td>\n",
       "      <td>6950</td>\n",
       "      <td>156.0</td>\n",
       "      <td>2011</td>\n",
       "      <td>Peugeot 308</td>\n",
       "    </tr>\n",
       "    <tr>\n",
       "      <th>5</th>\n",
       "      <td>147000</td>\n",
       "      <td>Toyota</td>\n",
       "      <td>Auris</td>\n",
       "      <td>Electric/Gasoline</td>\n",
       "      <td>Automatic</td>\n",
       "      <td>Used</td>\n",
       "      <td>6950</td>\n",
       "      <td>99.0</td>\n",
       "      <td>2011</td>\n",
       "      <td>Toyota Auris</td>\n",
       "    </tr>\n",
       "    <tr>\n",
       "      <th>6</th>\n",
       "      <td>91894</td>\n",
       "      <td>Renault</td>\n",
       "      <td>Scenic</td>\n",
       "      <td>Diesel</td>\n",
       "      <td>Manual</td>\n",
       "      <td>Used</td>\n",
       "      <td>6970</td>\n",
       "      <td>131.0</td>\n",
       "      <td>2011</td>\n",
       "      <td>Renault Scenic</td>\n",
       "    </tr>\n",
       "  </tbody>\n",
       "</table>\n",
       "</div>"
      ],
      "text/plain": [
       "   mileage       brand   model               fuel       gear offer_type  \\\n",
       "1    92800  Volkswagen    Golf           Gasoline     Manual       Used   \n",
       "3    96200     Renault  Megane           Gasoline     Manual       Used   \n",
       "4   156000     Peugeot     308           Gasoline     Manual       Used   \n",
       "5   147000      Toyota   Auris  Electric/Gasoline  Automatic       Used   \n",
       "6    91894     Renault  Scenic             Diesel     Manual       Used   \n",
       "\n",
       "   price     hp  year      brand_model  \n",
       "1   6877  122.0  2011  Volkswagen Golf  \n",
       "3   6950  110.0  2011   Renault Megane  \n",
       "4   6950  156.0  2011      Peugeot 308  \n",
       "5   6950   99.0  2011     Toyota Auris  \n",
       "6   6970  131.0  2011   Renault Scenic  "
      ]
     },
     "execution_count": 37,
     "metadata": {},
     "output_type": "execute_result"
    }
   ],
   "source": [
    "# Only keep he make and model combinations in the cars dataframe that appear in the make_model_counts dataframe\n",
    "raw_data = raw_data[raw_data['brand_model'].isin(brand_model_counts['brand+model'])]\n",
    "raw_data.head()"
   ]
  },
  {
   "cell_type": "code",
   "execution_count": 38,
   "id": "45576b0c",
   "metadata": {},
   "outputs": [
    {
     "data": {
      "text/plain": [
       "(32376, 10)"
      ]
     },
     "execution_count": 38,
     "metadata": {},
     "output_type": "execute_result"
    }
   ],
   "source": [
    "raw_data.shape"
   ]
  },
  {
   "cell_type": "markdown",
   "id": "3577fcda",
   "metadata": {},
   "source": [
    "+ column ['fuel']"
   ]
  },
  {
   "cell_type": "code",
   "execution_count": 39,
   "id": "42378044",
   "metadata": {},
   "outputs": [
    {
     "data": {
      "text/plain": [
       "Gasoline             21156\n",
       "Diesel                9979\n",
       "Electric/Gasoline      565\n",
       "Electric               430\n",
       "LPG                     89\n",
       "CNG                     82\n",
       "Others                  39\n",
       "-/- (Fuel)              17\n",
       "Electric/Diesel         17\n",
       "Ethanol                  2\n",
       "Name: fuel, dtype: int64"
      ]
     },
     "execution_count": 39,
     "metadata": {},
     "output_type": "execute_result"
    }
   ],
   "source": [
    "raw_data['fuel'].value_counts()"
   ]
  },
  {
   "cell_type": "code",
   "execution_count": 40,
   "id": "cbf6c73a",
   "metadata": {},
   "outputs": [
    {
     "data": {
      "text/plain": [
       "array(['Gasoline', 'Electric/Gasoline', 'Diesel', '-/- (Fuel)',\n",
       "       'Electric', 'CNG', 'LPG', 'Others', 'Electric/Diesel', 'Ethanol'],\n",
       "      dtype=object)"
      ]
     },
     "execution_count": 40,
     "metadata": {},
     "output_type": "execute_result"
    }
   ],
   "source": [
    "raw_data['fuel'].unique()"
   ]
  },
  {
   "cell_type": "code",
   "execution_count": 41,
   "id": "9ef18dcf",
   "metadata": {},
   "outputs": [
    {
     "data": {
      "text/plain": [
       "array(['Gasoline', 'Electric', 'Diesel', 'Other'], dtype=object)"
      ]
     },
     "execution_count": 41,
     "metadata": {},
     "output_type": "execute_result"
    }
   ],
   "source": [
    "raw_data[\"fuel\"] = raw_data[\"fuel\"].replace(['Electric/Diesel','Electric/Gasoline'],'Electric')\n",
    "raw_data[\"fuel\"] = raw_data[\"fuel\"].replace(['-/- (Fuel)','CNG','LPG','Others', 'Hydrogen', 'Ethanol'],\"Other\")\n",
    "raw_data[\"fuel\"].unique()"
   ]
  },
  {
   "cell_type": "markdown",
   "id": "90411a10",
   "metadata": {},
   "source": [
    "+ column ['gear']"
   ]
  },
  {
   "cell_type": "code",
   "execution_count": 42,
   "id": "aedd925d",
   "metadata": {
    "scrolled": true
   },
   "outputs": [
    {
     "data": {
      "text/plain": [
       "Manual            23011\n",
       "Automatic          9206\n",
       "Semi-automatic       51\n",
       "Name: gear, dtype: int64"
      ]
     },
     "execution_count": 42,
     "metadata": {},
     "output_type": "execute_result"
    }
   ],
   "source": [
    "raw_data['gear'].value_counts()"
   ]
  },
  {
   "cell_type": "code",
   "execution_count": 43,
   "id": "18c3b883",
   "metadata": {},
   "outputs": [
    {
     "data": {
      "text/plain": [
       "108"
      ]
     },
     "execution_count": 43,
     "metadata": {},
     "output_type": "execute_result"
    }
   ],
   "source": [
    "raw_data['gear'].isna().sum()"
   ]
  },
  {
   "cell_type": "code",
   "execution_count": 44,
   "id": "c3ded727",
   "metadata": {},
   "outputs": [],
   "source": [
    "raw_data=raw_data.dropna(subset = ['gear']) #droppinh nan values"
   ]
  },
  {
   "cell_type": "code",
   "execution_count": 45,
   "id": "c079eea8",
   "metadata": {},
   "outputs": [
    {
     "data": {
      "text/plain": [
       "0"
      ]
     },
     "execution_count": 45,
     "metadata": {},
     "output_type": "execute_result"
    }
   ],
   "source": [
    "raw_data['gear'].isna().sum()"
   ]
  },
  {
   "cell_type": "markdown",
   "id": "82d115a4",
   "metadata": {},
   "source": [
    "+ column ['offer_type']"
   ]
  },
  {
   "cell_type": "code",
   "execution_count": 46,
   "id": "baa3badf",
   "metadata": {},
   "outputs": [
    {
     "data": {
      "text/plain": [
       "Used              28680\n",
       "Pre-registered     1487\n",
       "Demonstration      1326\n",
       "Employee's car      771\n",
       "New                   4\n",
       "Name: offer_type, dtype: int64"
      ]
     },
     "execution_count": 46,
     "metadata": {},
     "output_type": "execute_result"
    }
   ],
   "source": [
    "raw_data['offer_type'].value_counts()"
   ]
  },
  {
   "cell_type": "code",
   "execution_count": 47,
   "id": "479874f7",
   "metadata": {},
   "outputs": [
    {
     "data": {
      "text/html": [
       "<div>\n",
       "<style scoped>\n",
       "    .dataframe tbody tr th:only-of-type {\n",
       "        vertical-align: middle;\n",
       "    }\n",
       "\n",
       "    .dataframe tbody tr th {\n",
       "        vertical-align: top;\n",
       "    }\n",
       "\n",
       "    .dataframe thead th {\n",
       "        text-align: right;\n",
       "    }\n",
       "</style>\n",
       "<table border=\"1\" class=\"dataframe\">\n",
       "  <thead>\n",
       "    <tr style=\"text-align: right;\">\n",
       "      <th></th>\n",
       "      <th>mileage</th>\n",
       "      <th>brand</th>\n",
       "      <th>model</th>\n",
       "      <th>fuel</th>\n",
       "      <th>gear</th>\n",
       "      <th>offer_type</th>\n",
       "      <th>price</th>\n",
       "      <th>hp</th>\n",
       "      <th>year</th>\n",
       "      <th>brand_model</th>\n",
       "    </tr>\n",
       "  </thead>\n",
       "  <tbody>\n",
       "    <tr>\n",
       "      <th>1</th>\n",
       "      <td>92800</td>\n",
       "      <td>Volkswagen</td>\n",
       "      <td>Golf</td>\n",
       "      <td>Gasoline</td>\n",
       "      <td>Manual</td>\n",
       "      <td>Used</td>\n",
       "      <td>6877</td>\n",
       "      <td>122.0</td>\n",
       "      <td>2011</td>\n",
       "      <td>Volkswagen Golf</td>\n",
       "    </tr>\n",
       "    <tr>\n",
       "      <th>3</th>\n",
       "      <td>96200</td>\n",
       "      <td>Renault</td>\n",
       "      <td>Megane</td>\n",
       "      <td>Gasoline</td>\n",
       "      <td>Manual</td>\n",
       "      <td>Used</td>\n",
       "      <td>6950</td>\n",
       "      <td>110.0</td>\n",
       "      <td>2011</td>\n",
       "      <td>Renault Megane</td>\n",
       "    </tr>\n",
       "    <tr>\n",
       "      <th>4</th>\n",
       "      <td>156000</td>\n",
       "      <td>Peugeot</td>\n",
       "      <td>308</td>\n",
       "      <td>Gasoline</td>\n",
       "      <td>Manual</td>\n",
       "      <td>Used</td>\n",
       "      <td>6950</td>\n",
       "      <td>156.0</td>\n",
       "      <td>2011</td>\n",
       "      <td>Peugeot 308</td>\n",
       "    </tr>\n",
       "    <tr>\n",
       "      <th>5</th>\n",
       "      <td>147000</td>\n",
       "      <td>Toyota</td>\n",
       "      <td>Auris</td>\n",
       "      <td>Electric</td>\n",
       "      <td>Automatic</td>\n",
       "      <td>Used</td>\n",
       "      <td>6950</td>\n",
       "      <td>99.0</td>\n",
       "      <td>2011</td>\n",
       "      <td>Toyota Auris</td>\n",
       "    </tr>\n",
       "    <tr>\n",
       "      <th>6</th>\n",
       "      <td>91894</td>\n",
       "      <td>Renault</td>\n",
       "      <td>Scenic</td>\n",
       "      <td>Diesel</td>\n",
       "      <td>Manual</td>\n",
       "      <td>Used</td>\n",
       "      <td>6970</td>\n",
       "      <td>131.0</td>\n",
       "      <td>2011</td>\n",
       "      <td>Renault Scenic</td>\n",
       "    </tr>\n",
       "    <tr>\n",
       "      <th>...</th>\n",
       "      <td>...</td>\n",
       "      <td>...</td>\n",
       "      <td>...</td>\n",
       "      <td>...</td>\n",
       "      <td>...</td>\n",
       "      <td>...</td>\n",
       "      <td>...</td>\n",
       "      <td>...</td>\n",
       "      <td>...</td>\n",
       "      <td>...</td>\n",
       "    </tr>\n",
       "    <tr>\n",
       "      <th>46394</th>\n",
       "      <td>10</td>\n",
       "      <td>Citroen</td>\n",
       "      <td>C1</td>\n",
       "      <td>Gasoline</td>\n",
       "      <td>Manual</td>\n",
       "      <td>Pre-registered</td>\n",
       "      <td>12340</td>\n",
       "      <td>72.0</td>\n",
       "      <td>2021</td>\n",
       "      <td>Citroen C1</td>\n",
       "    </tr>\n",
       "    <tr>\n",
       "      <th>46396</th>\n",
       "      <td>99</td>\n",
       "      <td>Fiat</td>\n",
       "      <td>500</td>\n",
       "      <td>Electric</td>\n",
       "      <td>Manual</td>\n",
       "      <td>Pre-registered</td>\n",
       "      <td>12490</td>\n",
       "      <td>71.0</td>\n",
       "      <td>2021</td>\n",
       "      <td>Fiat 500</td>\n",
       "    </tr>\n",
       "    <tr>\n",
       "      <th>46397</th>\n",
       "      <td>550</td>\n",
       "      <td>Fiat</td>\n",
       "      <td>500</td>\n",
       "      <td>Electric</td>\n",
       "      <td>Manual</td>\n",
       "      <td>Demonstration</td>\n",
       "      <td>12805</td>\n",
       "      <td>69.0</td>\n",
       "      <td>2021</td>\n",
       "      <td>Fiat 500</td>\n",
       "    </tr>\n",
       "    <tr>\n",
       "      <th>46398</th>\n",
       "      <td>837</td>\n",
       "      <td>Fiat</td>\n",
       "      <td>Panda</td>\n",
       "      <td>Electric</td>\n",
       "      <td>Manual</td>\n",
       "      <td>Demonstration</td>\n",
       "      <td>12805</td>\n",
       "      <td>69.0</td>\n",
       "      <td>2021</td>\n",
       "      <td>Fiat Panda</td>\n",
       "    </tr>\n",
       "    <tr>\n",
       "      <th>46399</th>\n",
       "      <td>1500</td>\n",
       "      <td>Skoda</td>\n",
       "      <td>Fabia</td>\n",
       "      <td>Gasoline</td>\n",
       "      <td>Manual</td>\n",
       "      <td>Demonstration</td>\n",
       "      <td>12980</td>\n",
       "      <td>60.0</td>\n",
       "      <td>2021</td>\n",
       "      <td>Skoda Fabia</td>\n",
       "    </tr>\n",
       "  </tbody>\n",
       "</table>\n",
       "<p>32221 rows × 10 columns</p>\n",
       "</div>"
      ],
      "text/plain": [
       "       mileage       brand   model      fuel       gear      offer_type  \\\n",
       "1        92800  Volkswagen    Golf  Gasoline     Manual            Used   \n",
       "3        96200     Renault  Megane  Gasoline     Manual            Used   \n",
       "4       156000     Peugeot     308  Gasoline     Manual            Used   \n",
       "5       147000      Toyota   Auris  Electric  Automatic            Used   \n",
       "6        91894     Renault  Scenic    Diesel     Manual            Used   \n",
       "...        ...         ...     ...       ...        ...             ...   \n",
       "46394       10     Citroen      C1  Gasoline     Manual  Pre-registered   \n",
       "46396       99        Fiat     500  Electric     Manual  Pre-registered   \n",
       "46397      550        Fiat     500  Electric     Manual   Demonstration   \n",
       "46398      837        Fiat   Panda  Electric     Manual   Demonstration   \n",
       "46399     1500       Skoda   Fabia  Gasoline     Manual   Demonstration   \n",
       "\n",
       "       price     hp  year      brand_model  \n",
       "1       6877  122.0  2011  Volkswagen Golf  \n",
       "3       6950  110.0  2011   Renault Megane  \n",
       "4       6950  156.0  2011      Peugeot 308  \n",
       "5       6950   99.0  2011     Toyota Auris  \n",
       "6       6970  131.0  2011   Renault Scenic  \n",
       "...      ...    ...   ...              ...  \n",
       "46394  12340   72.0  2021       Citroen C1  \n",
       "46396  12490   71.0  2021         Fiat 500  \n",
       "46397  12805   69.0  2021         Fiat 500  \n",
       "46398  12805   69.0  2021       Fiat Panda  \n",
       "46399  12980   60.0  2021      Skoda Fabia  \n",
       "\n",
       "[32221 rows x 10 columns]"
      ]
     },
     "execution_count": 47,
     "metadata": {},
     "output_type": "execute_result"
    }
   ],
   "source": [
    "raw_data=raw_data[~((raw_data[\"mileage\"]==0) & (raw_data[\"offer_type\"]!=\"New\"))] #extractin rows in which mileage is 0 and \n",
    "#offer_type is not new\n",
    "raw_data"
   ]
  },
  {
   "cell_type": "code",
   "execution_count": 48,
   "id": "553a3f57",
   "metadata": {},
   "outputs": [],
   "source": [
    "raw_data=raw_data[~(raw_data[\"offer_type\"]==\"New\")]"
   ]
  },
  {
   "cell_type": "code",
   "execution_count": 49,
   "id": "953ad038",
   "metadata": {},
   "outputs": [
    {
     "data": {
      "text/plain": [
       "Used              28675\n",
       "Pre-registered     1450\n",
       "Demonstration      1321\n",
       "Employee's car      771\n",
       "Name: offer_type, dtype: int64"
      ]
     },
     "execution_count": 49,
     "metadata": {},
     "output_type": "execute_result"
    }
   ],
   "source": [
    "raw_data['offer_type'].value_counts()"
   ]
  },
  {
   "cell_type": "markdown",
   "id": "389b41c2",
   "metadata": {},
   "source": [
    "+ column ['hp']"
   ]
  },
  {
   "cell_type": "code",
   "execution_count": 50,
   "id": "42a53894",
   "metadata": {},
   "outputs": [
    {
     "data": {
      "text/plain": [
       "150.0    2799\n",
       "69.0     2195\n",
       "60.0     1596\n",
       "90.0     1588\n",
       "75.0     1453\n",
       "         ... \n",
       "360.0       1\n",
       "273.0       1\n",
       "1.0         1\n",
       "113.0       1\n",
       "370.0       1\n",
       "Name: hp, Length: 158, dtype: int64"
      ]
     },
     "execution_count": 50,
     "metadata": {},
     "output_type": "execute_result"
    }
   ],
   "source": [
    "raw_data['hp'].value_counts()"
   ]
  },
  {
   "cell_type": "code",
   "execution_count": 51,
   "id": "fcb16639",
   "metadata": {
    "scrolled": true
   },
   "outputs": [
    {
     "data": {
      "text/plain": [
       "16"
      ]
     },
     "execution_count": 51,
     "metadata": {},
     "output_type": "execute_result"
    }
   ],
   "source": [
    "raw_data['hp'].isna().sum()"
   ]
  },
  {
   "cell_type": "code",
   "execution_count": 52,
   "id": "2a48fb51",
   "metadata": {},
   "outputs": [],
   "source": [
    "raw_data=raw_data.dropna(subset = ['hp']) #droppinh nan values"
   ]
  },
  {
   "cell_type": "code",
   "execution_count": 53,
   "id": "829bbd7e",
   "metadata": {},
   "outputs": [
    {
     "data": {
      "text/plain": [
       "0"
      ]
     },
     "execution_count": 53,
     "metadata": {},
     "output_type": "execute_result"
    }
   ],
   "source": [
    "raw_data['hp'].isna().sum()"
   ]
  },
  {
   "cell_type": "markdown",
   "id": "0018466f",
   "metadata": {},
   "source": [
    "column ['year']"
   ]
  },
  {
   "cell_type": "code",
   "execution_count": 54,
   "id": "bdcbc093",
   "metadata": {},
   "outputs": [
    {
     "data": {
      "text/plain": [
       "2016    3265\n",
       "2015    3231\n",
       "2014    3093\n",
       "2013    3085\n",
       "2017    3049\n",
       "2012    2946\n",
       "2018    2943\n",
       "2020    2839\n",
       "2019    2825\n",
       "2011    2765\n",
       "2021    2160\n",
       "Name: year, dtype: int64"
      ]
     },
     "execution_count": 54,
     "metadata": {},
     "output_type": "execute_result"
    }
   ],
   "source": [
    "raw_data['year'].value_counts()"
   ]
  },
  {
   "cell_type": "code",
   "execution_count": 55,
   "id": "04e61f06",
   "metadata": {},
   "outputs": [
    {
     "data": {
      "text/plain": [
       "0"
      ]
     },
     "execution_count": 55,
     "metadata": {},
     "output_type": "execute_result"
    }
   ],
   "source": [
    "raw_data['year'].isna().sum()"
   ]
  },
  {
   "cell_type": "code",
   "execution_count": 56,
   "id": "6855a901",
   "metadata": {
    "scrolled": true
   },
   "outputs": [
    {
     "data": {
      "text/html": [
       "<div>\n",
       "<style scoped>\n",
       "    .dataframe tbody tr th:only-of-type {\n",
       "        vertical-align: middle;\n",
       "    }\n",
       "\n",
       "    .dataframe tbody tr th {\n",
       "        vertical-align: top;\n",
       "    }\n",
       "\n",
       "    .dataframe thead th {\n",
       "        text-align: right;\n",
       "    }\n",
       "</style>\n",
       "<table border=\"1\" class=\"dataframe\">\n",
       "  <thead>\n",
       "    <tr style=\"text-align: right;\">\n",
       "      <th></th>\n",
       "      <th>mileage</th>\n",
       "      <th>brand</th>\n",
       "      <th>model</th>\n",
       "      <th>fuel</th>\n",
       "      <th>gear</th>\n",
       "      <th>offer_type</th>\n",
       "      <th>price</th>\n",
       "      <th>hp</th>\n",
       "      <th>year</th>\n",
       "      <th>brand_model</th>\n",
       "      <th>age</th>\n",
       "    </tr>\n",
       "  </thead>\n",
       "  <tbody>\n",
       "    <tr>\n",
       "      <th>1</th>\n",
       "      <td>92800</td>\n",
       "      <td>Volkswagen</td>\n",
       "      <td>Golf</td>\n",
       "      <td>Gasoline</td>\n",
       "      <td>Manual</td>\n",
       "      <td>Used</td>\n",
       "      <td>6877</td>\n",
       "      <td>122.0</td>\n",
       "      <td>2011</td>\n",
       "      <td>Volkswagen Golf</td>\n",
       "      <td>12</td>\n",
       "    </tr>\n",
       "    <tr>\n",
       "      <th>3</th>\n",
       "      <td>96200</td>\n",
       "      <td>Renault</td>\n",
       "      <td>Megane</td>\n",
       "      <td>Gasoline</td>\n",
       "      <td>Manual</td>\n",
       "      <td>Used</td>\n",
       "      <td>6950</td>\n",
       "      <td>110.0</td>\n",
       "      <td>2011</td>\n",
       "      <td>Renault Megane</td>\n",
       "      <td>12</td>\n",
       "    </tr>\n",
       "    <tr>\n",
       "      <th>4</th>\n",
       "      <td>156000</td>\n",
       "      <td>Peugeot</td>\n",
       "      <td>308</td>\n",
       "      <td>Gasoline</td>\n",
       "      <td>Manual</td>\n",
       "      <td>Used</td>\n",
       "      <td>6950</td>\n",
       "      <td>156.0</td>\n",
       "      <td>2011</td>\n",
       "      <td>Peugeot 308</td>\n",
       "      <td>12</td>\n",
       "    </tr>\n",
       "    <tr>\n",
       "      <th>5</th>\n",
       "      <td>147000</td>\n",
       "      <td>Toyota</td>\n",
       "      <td>Auris</td>\n",
       "      <td>Electric</td>\n",
       "      <td>Automatic</td>\n",
       "      <td>Used</td>\n",
       "      <td>6950</td>\n",
       "      <td>99.0</td>\n",
       "      <td>2011</td>\n",
       "      <td>Toyota Auris</td>\n",
       "      <td>12</td>\n",
       "    </tr>\n",
       "    <tr>\n",
       "      <th>6</th>\n",
       "      <td>91894</td>\n",
       "      <td>Renault</td>\n",
       "      <td>Scenic</td>\n",
       "      <td>Diesel</td>\n",
       "      <td>Manual</td>\n",
       "      <td>Used</td>\n",
       "      <td>6970</td>\n",
       "      <td>131.0</td>\n",
       "      <td>2011</td>\n",
       "      <td>Renault Scenic</td>\n",
       "      <td>12</td>\n",
       "    </tr>\n",
       "  </tbody>\n",
       "</table>\n",
       "</div>"
      ],
      "text/plain": [
       "   mileage       brand   model      fuel       gear offer_type  price     hp  \\\n",
       "1    92800  Volkswagen    Golf  Gasoline     Manual       Used   6877  122.0   \n",
       "3    96200     Renault  Megane  Gasoline     Manual       Used   6950  110.0   \n",
       "4   156000     Peugeot     308  Gasoline     Manual       Used   6950  156.0   \n",
       "5   147000      Toyota   Auris  Electric  Automatic       Used   6950   99.0   \n",
       "6    91894     Renault  Scenic    Diesel     Manual       Used   6970  131.0   \n",
       "\n",
       "   year      brand_model  age  \n",
       "1  2011  Volkswagen Golf   12  \n",
       "3  2011   Renault Megane   12  \n",
       "4  2011      Peugeot 308   12  \n",
       "5  2011     Toyota Auris   12  \n",
       "6  2011   Renault Scenic   12  "
      ]
     },
     "execution_count": 56,
     "metadata": {},
     "output_type": "execute_result"
    }
   ],
   "source": [
    "# Create a new column: 'age'\n",
    "from datetime import datetime\n",
    "raw_data['age'] = datetime.now().year - raw_data['year']\n",
    "\n",
    "# Show the top five rows of the cars dataset\n",
    "raw_data.head()"
   ]
  },
  {
   "cell_type": "code",
   "execution_count": 57,
   "id": "d0d58992",
   "metadata": {},
   "outputs": [
    {
     "data": {
      "text/html": [
       "<div>\n",
       "<style scoped>\n",
       "    .dataframe tbody tr th:only-of-type {\n",
       "        vertical-align: middle;\n",
       "    }\n",
       "\n",
       "    .dataframe tbody tr th {\n",
       "        vertical-align: top;\n",
       "    }\n",
       "\n",
       "    .dataframe thead th {\n",
       "        text-align: right;\n",
       "    }\n",
       "</style>\n",
       "<table border=\"1\" class=\"dataframe\">\n",
       "  <thead>\n",
       "    <tr style=\"text-align: right;\">\n",
       "      <th></th>\n",
       "      <th>index</th>\n",
       "      <th>mileage</th>\n",
       "      <th>brand</th>\n",
       "      <th>model</th>\n",
       "      <th>fuel</th>\n",
       "      <th>gear</th>\n",
       "      <th>offer_type</th>\n",
       "      <th>price</th>\n",
       "      <th>hp</th>\n",
       "      <th>year</th>\n",
       "      <th>brand_model</th>\n",
       "      <th>age</th>\n",
       "    </tr>\n",
       "  </thead>\n",
       "  <tbody>\n",
       "    <tr>\n",
       "      <th>0</th>\n",
       "      <td>1</td>\n",
       "      <td>92800</td>\n",
       "      <td>Volkswagen</td>\n",
       "      <td>Golf</td>\n",
       "      <td>Gasoline</td>\n",
       "      <td>Manual</td>\n",
       "      <td>Used</td>\n",
       "      <td>6877</td>\n",
       "      <td>122.0</td>\n",
       "      <td>2011</td>\n",
       "      <td>Volkswagen Golf</td>\n",
       "      <td>12</td>\n",
       "    </tr>\n",
       "    <tr>\n",
       "      <th>1</th>\n",
       "      <td>3</td>\n",
       "      <td>96200</td>\n",
       "      <td>Renault</td>\n",
       "      <td>Megane</td>\n",
       "      <td>Gasoline</td>\n",
       "      <td>Manual</td>\n",
       "      <td>Used</td>\n",
       "      <td>6950</td>\n",
       "      <td>110.0</td>\n",
       "      <td>2011</td>\n",
       "      <td>Renault Megane</td>\n",
       "      <td>12</td>\n",
       "    </tr>\n",
       "    <tr>\n",
       "      <th>2</th>\n",
       "      <td>4</td>\n",
       "      <td>156000</td>\n",
       "      <td>Peugeot</td>\n",
       "      <td>308</td>\n",
       "      <td>Gasoline</td>\n",
       "      <td>Manual</td>\n",
       "      <td>Used</td>\n",
       "      <td>6950</td>\n",
       "      <td>156.0</td>\n",
       "      <td>2011</td>\n",
       "      <td>Peugeot 308</td>\n",
       "      <td>12</td>\n",
       "    </tr>\n",
       "    <tr>\n",
       "      <th>3</th>\n",
       "      <td>5</td>\n",
       "      <td>147000</td>\n",
       "      <td>Toyota</td>\n",
       "      <td>Auris</td>\n",
       "      <td>Electric</td>\n",
       "      <td>Automatic</td>\n",
       "      <td>Used</td>\n",
       "      <td>6950</td>\n",
       "      <td>99.0</td>\n",
       "      <td>2011</td>\n",
       "      <td>Toyota Auris</td>\n",
       "      <td>12</td>\n",
       "    </tr>\n",
       "    <tr>\n",
       "      <th>4</th>\n",
       "      <td>6</td>\n",
       "      <td>91894</td>\n",
       "      <td>Renault</td>\n",
       "      <td>Scenic</td>\n",
       "      <td>Diesel</td>\n",
       "      <td>Manual</td>\n",
       "      <td>Used</td>\n",
       "      <td>6970</td>\n",
       "      <td>131.0</td>\n",
       "      <td>2011</td>\n",
       "      <td>Renault Scenic</td>\n",
       "      <td>12</td>\n",
       "    </tr>\n",
       "    <tr>\n",
       "      <th>...</th>\n",
       "      <td>...</td>\n",
       "      <td>...</td>\n",
       "      <td>...</td>\n",
       "      <td>...</td>\n",
       "      <td>...</td>\n",
       "      <td>...</td>\n",
       "      <td>...</td>\n",
       "      <td>...</td>\n",
       "      <td>...</td>\n",
       "      <td>...</td>\n",
       "      <td>...</td>\n",
       "      <td>...</td>\n",
       "    </tr>\n",
       "    <tr>\n",
       "      <th>32196</th>\n",
       "      <td>46394</td>\n",
       "      <td>10</td>\n",
       "      <td>Citroen</td>\n",
       "      <td>C1</td>\n",
       "      <td>Gasoline</td>\n",
       "      <td>Manual</td>\n",
       "      <td>Pre-registered</td>\n",
       "      <td>12340</td>\n",
       "      <td>72.0</td>\n",
       "      <td>2021</td>\n",
       "      <td>Citroen C1</td>\n",
       "      <td>2</td>\n",
       "    </tr>\n",
       "    <tr>\n",
       "      <th>32197</th>\n",
       "      <td>46396</td>\n",
       "      <td>99</td>\n",
       "      <td>Fiat</td>\n",
       "      <td>500</td>\n",
       "      <td>Electric</td>\n",
       "      <td>Manual</td>\n",
       "      <td>Pre-registered</td>\n",
       "      <td>12490</td>\n",
       "      <td>71.0</td>\n",
       "      <td>2021</td>\n",
       "      <td>Fiat 500</td>\n",
       "      <td>2</td>\n",
       "    </tr>\n",
       "    <tr>\n",
       "      <th>32198</th>\n",
       "      <td>46397</td>\n",
       "      <td>550</td>\n",
       "      <td>Fiat</td>\n",
       "      <td>500</td>\n",
       "      <td>Electric</td>\n",
       "      <td>Manual</td>\n",
       "      <td>Demonstration</td>\n",
       "      <td>12805</td>\n",
       "      <td>69.0</td>\n",
       "      <td>2021</td>\n",
       "      <td>Fiat 500</td>\n",
       "      <td>2</td>\n",
       "    </tr>\n",
       "    <tr>\n",
       "      <th>32199</th>\n",
       "      <td>46398</td>\n",
       "      <td>837</td>\n",
       "      <td>Fiat</td>\n",
       "      <td>Panda</td>\n",
       "      <td>Electric</td>\n",
       "      <td>Manual</td>\n",
       "      <td>Demonstration</td>\n",
       "      <td>12805</td>\n",
       "      <td>69.0</td>\n",
       "      <td>2021</td>\n",
       "      <td>Fiat Panda</td>\n",
       "      <td>2</td>\n",
       "    </tr>\n",
       "    <tr>\n",
       "      <th>32200</th>\n",
       "      <td>46399</td>\n",
       "      <td>1500</td>\n",
       "      <td>Skoda</td>\n",
       "      <td>Fabia</td>\n",
       "      <td>Gasoline</td>\n",
       "      <td>Manual</td>\n",
       "      <td>Demonstration</td>\n",
       "      <td>12980</td>\n",
       "      <td>60.0</td>\n",
       "      <td>2021</td>\n",
       "      <td>Skoda Fabia</td>\n",
       "      <td>2</td>\n",
       "    </tr>\n",
       "  </tbody>\n",
       "</table>\n",
       "<p>32201 rows × 12 columns</p>\n",
       "</div>"
      ],
      "text/plain": [
       "       index  mileage       brand   model      fuel       gear  \\\n",
       "0          1    92800  Volkswagen    Golf  Gasoline     Manual   \n",
       "1          3    96200     Renault  Megane  Gasoline     Manual   \n",
       "2          4   156000     Peugeot     308  Gasoline     Manual   \n",
       "3          5   147000      Toyota   Auris  Electric  Automatic   \n",
       "4          6    91894     Renault  Scenic    Diesel     Manual   \n",
       "...      ...      ...         ...     ...       ...        ...   \n",
       "32196  46394       10     Citroen      C1  Gasoline     Manual   \n",
       "32197  46396       99        Fiat     500  Electric     Manual   \n",
       "32198  46397      550        Fiat     500  Electric     Manual   \n",
       "32199  46398      837        Fiat   Panda  Electric     Manual   \n",
       "32200  46399     1500       Skoda   Fabia  Gasoline     Manual   \n",
       "\n",
       "           offer_type  price     hp  year      brand_model  age  \n",
       "0                Used   6877  122.0  2011  Volkswagen Golf   12  \n",
       "1                Used   6950  110.0  2011   Renault Megane   12  \n",
       "2                Used   6950  156.0  2011      Peugeot 308   12  \n",
       "3                Used   6950   99.0  2011     Toyota Auris   12  \n",
       "4                Used   6970  131.0  2011   Renault Scenic   12  \n",
       "...               ...    ...    ...   ...              ...  ...  \n",
       "32196  Pre-registered  12340   72.0  2021       Citroen C1    2  \n",
       "32197  Pre-registered  12490   71.0  2021         Fiat 500    2  \n",
       "32198   Demonstration  12805   69.0  2021         Fiat 500    2  \n",
       "32199   Demonstration  12805   69.0  2021       Fiat Panda    2  \n",
       "32200   Demonstration  12980   60.0  2021      Skoda Fabia    2  \n",
       "\n",
       "[32201 rows x 12 columns]"
      ]
     },
     "execution_count": 57,
     "metadata": {},
     "output_type": "execute_result"
    }
   ],
   "source": [
    "raw_data.reset_index(inplace=True)\n",
    "raw_data"
   ]
  },
  {
   "cell_type": "code",
   "execution_count": 58,
   "id": "d9a498ab",
   "metadata": {},
   "outputs": [
    {
     "data": {
      "text/plain": [
       "Index(['index', 'mileage', 'brand', 'model', 'fuel', 'gear', 'offer_type',\n",
       "       'price', 'hp', 'year', 'brand_model', 'age'],\n",
       "      dtype='object')"
      ]
     },
     "execution_count": 58,
     "metadata": {},
     "output_type": "execute_result"
    }
   ],
   "source": [
    "raw_data.columns"
   ]
  },
  {
   "cell_type": "code",
   "execution_count": 59,
   "id": "86545fc9",
   "metadata": {},
   "outputs": [
    {
     "data": {
      "text/html": [
       "<div>\n",
       "<style scoped>\n",
       "    .dataframe tbody tr th:only-of-type {\n",
       "        vertical-align: middle;\n",
       "    }\n",
       "\n",
       "    .dataframe tbody tr th {\n",
       "        vertical-align: top;\n",
       "    }\n",
       "\n",
       "    .dataframe thead th {\n",
       "        text-align: right;\n",
       "    }\n",
       "</style>\n",
       "<table border=\"1\" class=\"dataframe\">\n",
       "  <thead>\n",
       "    <tr style=\"text-align: right;\">\n",
       "      <th></th>\n",
       "      <th>brand_model</th>\n",
       "      <th>brand</th>\n",
       "      <th>model</th>\n",
       "      <th>mileage</th>\n",
       "      <th>fuel</th>\n",
       "      <th>gear</th>\n",
       "      <th>offer_type</th>\n",
       "      <th>price</th>\n",
       "      <th>hp</th>\n",
       "      <th>year</th>\n",
       "      <th>age</th>\n",
       "    </tr>\n",
       "  </thead>\n",
       "  <tbody>\n",
       "    <tr>\n",
       "      <th>0</th>\n",
       "      <td>Volkswagen Golf</td>\n",
       "      <td>Volkswagen</td>\n",
       "      <td>Golf</td>\n",
       "      <td>92800</td>\n",
       "      <td>Gasoline</td>\n",
       "      <td>Manual</td>\n",
       "      <td>Used</td>\n",
       "      <td>6877</td>\n",
       "      <td>122.0</td>\n",
       "      <td>2011</td>\n",
       "      <td>12</td>\n",
       "    </tr>\n",
       "    <tr>\n",
       "      <th>1</th>\n",
       "      <td>Renault Megane</td>\n",
       "      <td>Renault</td>\n",
       "      <td>Megane</td>\n",
       "      <td>96200</td>\n",
       "      <td>Gasoline</td>\n",
       "      <td>Manual</td>\n",
       "      <td>Used</td>\n",
       "      <td>6950</td>\n",
       "      <td>110.0</td>\n",
       "      <td>2011</td>\n",
       "      <td>12</td>\n",
       "    </tr>\n",
       "    <tr>\n",
       "      <th>2</th>\n",
       "      <td>Peugeot 308</td>\n",
       "      <td>Peugeot</td>\n",
       "      <td>308</td>\n",
       "      <td>156000</td>\n",
       "      <td>Gasoline</td>\n",
       "      <td>Manual</td>\n",
       "      <td>Used</td>\n",
       "      <td>6950</td>\n",
       "      <td>156.0</td>\n",
       "      <td>2011</td>\n",
       "      <td>12</td>\n",
       "    </tr>\n",
       "    <tr>\n",
       "      <th>3</th>\n",
       "      <td>Toyota Auris</td>\n",
       "      <td>Toyota</td>\n",
       "      <td>Auris</td>\n",
       "      <td>147000</td>\n",
       "      <td>Electric</td>\n",
       "      <td>Automatic</td>\n",
       "      <td>Used</td>\n",
       "      <td>6950</td>\n",
       "      <td>99.0</td>\n",
       "      <td>2011</td>\n",
       "      <td>12</td>\n",
       "    </tr>\n",
       "    <tr>\n",
       "      <th>4</th>\n",
       "      <td>Renault Scenic</td>\n",
       "      <td>Renault</td>\n",
       "      <td>Scenic</td>\n",
       "      <td>91894</td>\n",
       "      <td>Diesel</td>\n",
       "      <td>Manual</td>\n",
       "      <td>Used</td>\n",
       "      <td>6970</td>\n",
       "      <td>131.0</td>\n",
       "      <td>2011</td>\n",
       "      <td>12</td>\n",
       "    </tr>\n",
       "    <tr>\n",
       "      <th>5</th>\n",
       "      <td>Opel Zafira</td>\n",
       "      <td>Opel</td>\n",
       "      <td>Zafira</td>\n",
       "      <td>127500</td>\n",
       "      <td>Gasoline</td>\n",
       "      <td>Manual</td>\n",
       "      <td>Used</td>\n",
       "      <td>6972</td>\n",
       "      <td>116.0</td>\n",
       "      <td>2011</td>\n",
       "      <td>12</td>\n",
       "    </tr>\n",
       "    <tr>\n",
       "      <th>6</th>\n",
       "      <td>Mazda 3</td>\n",
       "      <td>Mazda</td>\n",
       "      <td>3</td>\n",
       "      <td>115000</td>\n",
       "      <td>Gasoline</td>\n",
       "      <td>Automatic</td>\n",
       "      <td>Used</td>\n",
       "      <td>6980</td>\n",
       "      <td>150.0</td>\n",
       "      <td>2011</td>\n",
       "      <td>12</td>\n",
       "    </tr>\n",
       "    <tr>\n",
       "      <th>7</th>\n",
       "      <td>Ford Transit</td>\n",
       "      <td>Ford</td>\n",
       "      <td>Transit</td>\n",
       "      <td>104</td>\n",
       "      <td>Diesel</td>\n",
       "      <td>Manual</td>\n",
       "      <td>Used</td>\n",
       "      <td>6990</td>\n",
       "      <td>86.0</td>\n",
       "      <td>2011</td>\n",
       "      <td>12</td>\n",
       "    </tr>\n",
       "    <tr>\n",
       "      <th>8</th>\n",
       "      <td>Opel Meriva</td>\n",
       "      <td>Opel</td>\n",
       "      <td>Meriva</td>\n",
       "      <td>59580</td>\n",
       "      <td>Diesel</td>\n",
       "      <td>Automatic</td>\n",
       "      <td>Used</td>\n",
       "      <td>6990</td>\n",
       "      <td>101.0</td>\n",
       "      <td>2011</td>\n",
       "      <td>12</td>\n",
       "    </tr>\n",
       "    <tr>\n",
       "      <th>9</th>\n",
       "      <td>Volkswagen Golf</td>\n",
       "      <td>Volkswagen</td>\n",
       "      <td>Golf</td>\n",
       "      <td>84000</td>\n",
       "      <td>Gasoline</td>\n",
       "      <td>Manual</td>\n",
       "      <td>Used</td>\n",
       "      <td>6990</td>\n",
       "      <td>105.0</td>\n",
       "      <td>2011</td>\n",
       "      <td>12</td>\n",
       "    </tr>\n",
       "    <tr>\n",
       "      <th>10</th>\n",
       "      <td>Audi A4</td>\n",
       "      <td>Audi</td>\n",
       "      <td>A4</td>\n",
       "      <td>194020</td>\n",
       "      <td>Diesel</td>\n",
       "      <td>Manual</td>\n",
       "      <td>Used</td>\n",
       "      <td>6999</td>\n",
       "      <td>120.0</td>\n",
       "      <td>2011</td>\n",
       "      <td>12</td>\n",
       "    </tr>\n",
       "    <tr>\n",
       "      <th>11</th>\n",
       "      <td>Volkswagen Polo</td>\n",
       "      <td>Volkswagen</td>\n",
       "      <td>Polo</td>\n",
       "      <td>72000</td>\n",
       "      <td>Gasoline</td>\n",
       "      <td>Manual</td>\n",
       "      <td>Used</td>\n",
       "      <td>6999</td>\n",
       "      <td>60.0</td>\n",
       "      <td>2011</td>\n",
       "      <td>12</td>\n",
       "    </tr>\n",
       "    <tr>\n",
       "      <th>12</th>\n",
       "      <td>Opel Corsa</td>\n",
       "      <td>Opel</td>\n",
       "      <td>Corsa</td>\n",
       "      <td>82000</td>\n",
       "      <td>Gasoline</td>\n",
       "      <td>Manual</td>\n",
       "      <td>Used</td>\n",
       "      <td>7000</td>\n",
       "      <td>101.0</td>\n",
       "      <td>2011</td>\n",
       "      <td>12</td>\n",
       "    </tr>\n",
       "    <tr>\n",
       "      <th>13</th>\n",
       "      <td>Kia Picanto</td>\n",
       "      <td>Kia</td>\n",
       "      <td>Picanto</td>\n",
       "      <td>44800</td>\n",
       "      <td>Gasoline</td>\n",
       "      <td>Automatic</td>\n",
       "      <td>Used</td>\n",
       "      <td>7850</td>\n",
       "      <td>86.0</td>\n",
       "      <td>2012</td>\n",
       "      <td>11</td>\n",
       "    </tr>\n",
       "    <tr>\n",
       "      <th>14</th>\n",
       "      <td>Volkswagen Golf</td>\n",
       "      <td>Volkswagen</td>\n",
       "      <td>Golf</td>\n",
       "      <td>81970</td>\n",
       "      <td>Gasoline</td>\n",
       "      <td>Manual</td>\n",
       "      <td>Used</td>\n",
       "      <td>7850</td>\n",
       "      <td>105.0</td>\n",
       "      <td>2012</td>\n",
       "      <td>11</td>\n",
       "    </tr>\n",
       "    <tr>\n",
       "      <th>15</th>\n",
       "      <td>Dacia Duster</td>\n",
       "      <td>Dacia</td>\n",
       "      <td>Duster</td>\n",
       "      <td>24000</td>\n",
       "      <td>Gasoline</td>\n",
       "      <td>Manual</td>\n",
       "      <td>Used</td>\n",
       "      <td>7900</td>\n",
       "      <td>105.0</td>\n",
       "      <td>2012</td>\n",
       "      <td>11</td>\n",
       "    </tr>\n",
       "    <tr>\n",
       "      <th>16</th>\n",
       "      <td>BMW 118</td>\n",
       "      <td>BMW</td>\n",
       "      <td>118</td>\n",
       "      <td>299900</td>\n",
       "      <td>Diesel</td>\n",
       "      <td>Manual</td>\n",
       "      <td>Used</td>\n",
       "      <td>7950</td>\n",
       "      <td>143.0</td>\n",
       "      <td>2012</td>\n",
       "      <td>11</td>\n",
       "    </tr>\n",
       "    <tr>\n",
       "      <th>17</th>\n",
       "      <td>Opel Astra</td>\n",
       "      <td>Opel</td>\n",
       "      <td>Astra</td>\n",
       "      <td>104250</td>\n",
       "      <td>Gasoline</td>\n",
       "      <td>Manual</td>\n",
       "      <td>Used</td>\n",
       "      <td>7950</td>\n",
       "      <td>140.0</td>\n",
       "      <td>2012</td>\n",
       "      <td>11</td>\n",
       "    </tr>\n",
       "    <tr>\n",
       "      <th>18</th>\n",
       "      <td>Peugeot 308</td>\n",
       "      <td>Peugeot</td>\n",
       "      <td>308</td>\n",
       "      <td>151250</td>\n",
       "      <td>Diesel</td>\n",
       "      <td>Manual</td>\n",
       "      <td>Used</td>\n",
       "      <td>7950</td>\n",
       "      <td>163.0</td>\n",
       "      <td>2012</td>\n",
       "      <td>11</td>\n",
       "    </tr>\n",
       "    <tr>\n",
       "      <th>19</th>\n",
       "      <td>BMW 118</td>\n",
       "      <td>BMW</td>\n",
       "      <td>118</td>\n",
       "      <td>133500</td>\n",
       "      <td>Diesel</td>\n",
       "      <td>Manual</td>\n",
       "      <td>Used</td>\n",
       "      <td>7980</td>\n",
       "      <td>143.0</td>\n",
       "      <td>2012</td>\n",
       "      <td>11</td>\n",
       "    </tr>\n",
       "  </tbody>\n",
       "</table>\n",
       "</div>"
      ],
      "text/plain": [
       "        brand_model       brand    model  mileage      fuel       gear  \\\n",
       "0   Volkswagen Golf  Volkswagen     Golf    92800  Gasoline     Manual   \n",
       "1    Renault Megane     Renault   Megane    96200  Gasoline     Manual   \n",
       "2       Peugeot 308     Peugeot      308   156000  Gasoline     Manual   \n",
       "3      Toyota Auris      Toyota    Auris   147000  Electric  Automatic   \n",
       "4    Renault Scenic     Renault   Scenic    91894    Diesel     Manual   \n",
       "5       Opel Zafira        Opel   Zafira   127500  Gasoline     Manual   \n",
       "6           Mazda 3       Mazda        3   115000  Gasoline  Automatic   \n",
       "7      Ford Transit        Ford  Transit      104    Diesel     Manual   \n",
       "8       Opel Meriva        Opel   Meriva    59580    Diesel  Automatic   \n",
       "9   Volkswagen Golf  Volkswagen     Golf    84000  Gasoline     Manual   \n",
       "10          Audi A4        Audi       A4   194020    Diesel     Manual   \n",
       "11  Volkswagen Polo  Volkswagen     Polo    72000  Gasoline     Manual   \n",
       "12       Opel Corsa        Opel    Corsa    82000  Gasoline     Manual   \n",
       "13      Kia Picanto         Kia  Picanto    44800  Gasoline  Automatic   \n",
       "14  Volkswagen Golf  Volkswagen     Golf    81970  Gasoline     Manual   \n",
       "15     Dacia Duster       Dacia   Duster    24000  Gasoline     Manual   \n",
       "16          BMW 118         BMW      118   299900    Diesel     Manual   \n",
       "17       Opel Astra        Opel    Astra   104250  Gasoline     Manual   \n",
       "18      Peugeot 308     Peugeot      308   151250    Diesel     Manual   \n",
       "19          BMW 118         BMW      118   133500    Diesel     Manual   \n",
       "\n",
       "   offer_type  price     hp  year  age  \n",
       "0        Used   6877  122.0  2011   12  \n",
       "1        Used   6950  110.0  2011   12  \n",
       "2        Used   6950  156.0  2011   12  \n",
       "3        Used   6950   99.0  2011   12  \n",
       "4        Used   6970  131.0  2011   12  \n",
       "5        Used   6972  116.0  2011   12  \n",
       "6        Used   6980  150.0  2011   12  \n",
       "7        Used   6990   86.0  2011   12  \n",
       "8        Used   6990  101.0  2011   12  \n",
       "9        Used   6990  105.0  2011   12  \n",
       "10       Used   6999  120.0  2011   12  \n",
       "11       Used   6999   60.0  2011   12  \n",
       "12       Used   7000  101.0  2011   12  \n",
       "13       Used   7850   86.0  2012   11  \n",
       "14       Used   7850  105.0  2012   11  \n",
       "15       Used   7900  105.0  2012   11  \n",
       "16       Used   7950  143.0  2012   11  \n",
       "17       Used   7950  140.0  2012   11  \n",
       "18       Used   7950  163.0  2012   11  \n",
       "19       Used   7980  143.0  2012   11  "
      ]
     },
     "execution_count": 59,
     "metadata": {},
     "output_type": "execute_result"
    }
   ],
   "source": [
    "final_data=raw_data[['brand_model','brand','model', 'mileage', 'fuel', 'gear', 'offer_type', 'price',\n",
    "       'hp', 'year', 'age']]\n",
    "final_data.head(20)"
   ]
  },
  {
   "cell_type": "code",
   "execution_count": 60,
   "id": "fa3df8a9",
   "metadata": {},
   "outputs": [],
   "source": [
    "final_data.to_csv('../Data/clean_data.csv',index=False)"
   ]
  }
 ],
 "metadata": {
  "kernelspec": {
   "display_name": "Final-Bootcamp-Project",
   "language": "python",
   "name": "final-bootcamp-project"
  },
  "language_info": {
   "codemirror_mode": {
    "name": "ipython",
    "version": 3
   },
   "file_extension": ".py",
   "mimetype": "text/x-python",
   "name": "python",
   "nbconvert_exporter": "python",
   "pygments_lexer": "ipython3",
   "version": "3.9.16"
  }
 },
 "nbformat": 4,
 "nbformat_minor": 5
}
